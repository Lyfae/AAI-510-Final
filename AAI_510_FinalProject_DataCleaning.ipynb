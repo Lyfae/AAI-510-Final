{
 "cells": [
  {
   "attachments": {},
   "cell_type": "markdown",
   "metadata": {},
   "source": [
    "##### $Name:\\,\\color{blue}{Christopher\\,J.\\,Watson\\,,Jessica\\,Robledo\\,,Paul\\,Thai}$\n",
    "##### $School:\\,\\color{blue}{Marcos\\,School\\,of\\,Engineering,\\,University\\,of\\,San\\,Diego}$\n",
    "##### $Class:\\,\\color{blue}{AAI\\,510-\\,Machine\\,Learning\\,Fundamentals}$\n",
    "##### $Assignment:\\,\\color{blue}{MSAAI\\,Final\\,Project}$\n",
    "##### $Date:\\,\\color{blue}{6/20/2023}$"
   ]
  },
  {
   "cell_type": "code",
   "execution_count": 1,
   "metadata": {
    "collapsed": true
   },
   "outputs": [],
   "source": [
    "\n",
    "# Import Libraries\n",
    "# Basic\n",
    "import pandas as pd\n",
    "import numpy as np\n",
    "\n",
    "# Visualizations\n",
    "import seaborn as sns\n",
    "import matplotlib.pyplot as plt \n",
    "%matplotlib inline\n",
    "\n",
    "# Imputation\n",
    "from sklearn.impute import SimpleImputer\n",
    "\n",
    "# Metrics\n",
    "from sklearn import metrics\n",
    "\n",
    "# Data Processing\n",
    "from sklearn import preprocessing\n",
    "\n",
    "# Testing set\n",
    "from sklearn.model_selection import train_test_split\n",
    "\n",
    "# Classifier model libraries\n",
    "from sklearn.ensemble import RandomForestClassifier\n",
    "from sklearn.ensemble import GradientBoostingClassifier\n",
    "from sklearn.naive_bayes import GaussianNB\n",
    "from sklearn.svm import SVC"
   ]
  },
  {
   "cell_type": "code",
   "execution_count": 2,
   "metadata": {
    "collapsed": false
   },
   "outputs": [],
   "source": [
    "# Read In Data Sets\n",
    "# df_1 = pd.read_csv('./Home_Credit/application_train.csv')\n",
    "df_1 = pd.read_csv('application_train.csv') # for my purposes - paul"
   ]
  },
  {
   "attachments": {},
   "cell_type": "markdown",
   "metadata": {
    "collapsed": false
   },
   "source": [
    "### Data Cleaning\n",
    "\n",
    "The data first needs to be cleaned and prepared for an efficient model to be generated."
   ]
  },
  {
   "cell_type": "code",
   "execution_count": 3,
   "metadata": {
    "collapsed": false
   },
   "outputs": [
    {
     "name": "stdout",
     "output_type": "stream",
     "text": [
      "<class 'pandas.core.frame.DataFrame'>\n",
      "RangeIndex: 307511 entries, 0 to 307510\n",
      "Data columns (total 122 columns):\n",
      " #    Column                        Dtype  \n",
      "---   ------                        -----  \n",
      " 0    SK_ID_CURR                    int64  \n",
      " 1    TARGET                        int64  \n",
      " 2    NAME_CONTRACT_TYPE            object \n",
      " 3    CODE_GENDER                   object \n",
      " 4    FLAG_OWN_CAR                  object \n",
      " 5    FLAG_OWN_REALTY               object \n",
      " 6    CNT_CHILDREN                  int64  \n",
      " 7    AMT_INCOME_TOTAL              float64\n",
      " 8    AMT_CREDIT                    float64\n",
      " 9    AMT_ANNUITY                   float64\n",
      " 10   AMT_GOODS_PRICE               float64\n",
      " 11   NAME_TYPE_SUITE               object \n",
      " 12   NAME_INCOME_TYPE              object \n",
      " 13   NAME_EDUCATION_TYPE           object \n",
      " 14   NAME_FAMILY_STATUS            object \n",
      " 15   NAME_HOUSING_TYPE             object \n",
      " 16   REGION_POPULATION_RELATIVE    float64\n",
      " 17   DAYS_BIRTH                    int64  \n",
      " 18   DAYS_EMPLOYED                 int64  \n",
      " 19   DAYS_REGISTRATION             float64\n",
      " 20   DAYS_ID_PUBLISH               int64  \n",
      " 21   OWN_CAR_AGE                   float64\n",
      " 22   FLAG_MOBIL                    int64  \n",
      " 23   FLAG_EMP_PHONE                int64  \n",
      " 24   FLAG_WORK_PHONE               int64  \n",
      " 25   FLAG_CONT_MOBILE              int64  \n",
      " 26   FLAG_PHONE                    int64  \n",
      " 27   FLAG_EMAIL                    int64  \n",
      " 28   OCCUPATION_TYPE               object \n",
      " 29   CNT_FAM_MEMBERS               float64\n",
      " 30   REGION_RATING_CLIENT          int64  \n",
      " 31   REGION_RATING_CLIENT_W_CITY   int64  \n",
      " 32   WEEKDAY_APPR_PROCESS_START    object \n",
      " 33   HOUR_APPR_PROCESS_START       int64  \n",
      " 34   REG_REGION_NOT_LIVE_REGION    int64  \n",
      " 35   REG_REGION_NOT_WORK_REGION    int64  \n",
      " 36   LIVE_REGION_NOT_WORK_REGION   int64  \n",
      " 37   REG_CITY_NOT_LIVE_CITY        int64  \n",
      " 38   REG_CITY_NOT_WORK_CITY        int64  \n",
      " 39   LIVE_CITY_NOT_WORK_CITY       int64  \n",
      " 40   ORGANIZATION_TYPE             object \n",
      " 41   EXT_SOURCE_1                  float64\n",
      " 42   EXT_SOURCE_2                  float64\n",
      " 43   EXT_SOURCE_3                  float64\n",
      " 44   APARTMENTS_AVG                float64\n",
      " 45   BASEMENTAREA_AVG              float64\n",
      " 46   YEARS_BEGINEXPLUATATION_AVG   float64\n",
      " 47   YEARS_BUILD_AVG               float64\n",
      " 48   COMMONAREA_AVG                float64\n",
      " 49   ELEVATORS_AVG                 float64\n",
      " 50   ENTRANCES_AVG                 float64\n",
      " 51   FLOORSMAX_AVG                 float64\n",
      " 52   FLOORSMIN_AVG                 float64\n",
      " 53   LANDAREA_AVG                  float64\n",
      " 54   LIVINGAPARTMENTS_AVG          float64\n",
      " 55   LIVINGAREA_AVG                float64\n",
      " 56   NONLIVINGAPARTMENTS_AVG       float64\n",
      " 57   NONLIVINGAREA_AVG             float64\n",
      " 58   APARTMENTS_MODE               float64\n",
      " 59   BASEMENTAREA_MODE             float64\n",
      " 60   YEARS_BEGINEXPLUATATION_MODE  float64\n",
      " 61   YEARS_BUILD_MODE              float64\n",
      " 62   COMMONAREA_MODE               float64\n",
      " 63   ELEVATORS_MODE                float64\n",
      " 64   ENTRANCES_MODE                float64\n",
      " 65   FLOORSMAX_MODE                float64\n",
      " 66   FLOORSMIN_MODE                float64\n",
      " 67   LANDAREA_MODE                 float64\n",
      " 68   LIVINGAPARTMENTS_MODE         float64\n",
      " 69   LIVINGAREA_MODE               float64\n",
      " 70   NONLIVINGAPARTMENTS_MODE      float64\n",
      " 71   NONLIVINGAREA_MODE            float64\n",
      " 72   APARTMENTS_MEDI               float64\n",
      " 73   BASEMENTAREA_MEDI             float64\n",
      " 74   YEARS_BEGINEXPLUATATION_MEDI  float64\n",
      " 75   YEARS_BUILD_MEDI              float64\n",
      " 76   COMMONAREA_MEDI               float64\n",
      " 77   ELEVATORS_MEDI                float64\n",
      " 78   ENTRANCES_MEDI                float64\n",
      " 79   FLOORSMAX_MEDI                float64\n",
      " 80   FLOORSMIN_MEDI                float64\n",
      " 81   LANDAREA_MEDI                 float64\n",
      " 82   LIVINGAPARTMENTS_MEDI         float64\n",
      " 83   LIVINGAREA_MEDI               float64\n",
      " 84   NONLIVINGAPARTMENTS_MEDI      float64\n",
      " 85   NONLIVINGAREA_MEDI            float64\n",
      " 86   FONDKAPREMONT_MODE            object \n",
      " 87   HOUSETYPE_MODE                object \n",
      " 88   TOTALAREA_MODE                float64\n",
      " 89   WALLSMATERIAL_MODE            object \n",
      " 90   EMERGENCYSTATE_MODE           object \n",
      " 91   OBS_30_CNT_SOCIAL_CIRCLE      float64\n",
      " 92   DEF_30_CNT_SOCIAL_CIRCLE      float64\n",
      " 93   OBS_60_CNT_SOCIAL_CIRCLE      float64\n",
      " 94   DEF_60_CNT_SOCIAL_CIRCLE      float64\n",
      " 95   DAYS_LAST_PHONE_CHANGE        float64\n",
      " 96   FLAG_DOCUMENT_2               int64  \n",
      " 97   FLAG_DOCUMENT_3               int64  \n",
      " 98   FLAG_DOCUMENT_4               int64  \n",
      " 99   FLAG_DOCUMENT_5               int64  \n",
      " 100  FLAG_DOCUMENT_6               int64  \n",
      " 101  FLAG_DOCUMENT_7               int64  \n",
      " 102  FLAG_DOCUMENT_8               int64  \n",
      " 103  FLAG_DOCUMENT_9               int64  \n",
      " 104  FLAG_DOCUMENT_10              int64  \n",
      " 105  FLAG_DOCUMENT_11              int64  \n",
      " 106  FLAG_DOCUMENT_12              int64  \n",
      " 107  FLAG_DOCUMENT_13              int64  \n",
      " 108  FLAG_DOCUMENT_14              int64  \n",
      " 109  FLAG_DOCUMENT_15              int64  \n",
      " 110  FLAG_DOCUMENT_16              int64  \n",
      " 111  FLAG_DOCUMENT_17              int64  \n",
      " 112  FLAG_DOCUMENT_18              int64  \n",
      " 113  FLAG_DOCUMENT_19              int64  \n",
      " 114  FLAG_DOCUMENT_20              int64  \n",
      " 115  FLAG_DOCUMENT_21              int64  \n",
      " 116  AMT_REQ_CREDIT_BUREAU_HOUR    float64\n",
      " 117  AMT_REQ_CREDIT_BUREAU_DAY     float64\n",
      " 118  AMT_REQ_CREDIT_BUREAU_WEEK    float64\n",
      " 119  AMT_REQ_CREDIT_BUREAU_MON     float64\n",
      " 120  AMT_REQ_CREDIT_BUREAU_QRT     float64\n",
      " 121  AMT_REQ_CREDIT_BUREAU_YEAR    float64\n",
      "dtypes: float64(65), int64(41), object(16)\n",
      "memory usage: 286.2+ MB\n"
     ]
    }
   ],
   "source": [
    "# Peek at meta information from the dataset\n",
    "df_1.info(verbose=True)"
   ]
  },
  {
   "attachments": {},
   "cell_type": "markdown",
   "metadata": {},
   "source": [
    "As there is a significant amount of data we will need a thorough amount of data preprocessing and cleaning. For that we will create some helper functions to ensure code maintainability."
   ]
  },
  {
   "cell_type": "code",
   "execution_count": 4,
   "metadata": {},
   "outputs": [],
   "source": [
    "# Helper Function definitions\n",
    "\n",
    "# Remove non-unique column data\n",
    "def col_uniques(X):\n",
    "    num_unique = X.nunique()\n",
    "    blank_uniform_cols = num_unique == 1\n",
    "    X_tmp = X.drop(blank_uniform_cols[blank_uniform_cols].index, axis=1)\n",
    "    # Print the remaining columns\n",
    "\n",
    "    return X_tmp\n",
    "\n",
    "# Gets the Outliers as an array\n",
    "def get_outliers(X, zthresh,num_col):\n",
    "    # Get Z Scores\n",
    "    z_scores = (X[num_col] - X[num_col].mean()) / X[num_col].std()\n",
    "    \n",
    "    # Apply and get outliers\n",
    "    outliers_z = (z_scores > zthresh).any(axis=1)\n",
    "\n",
    "    Q1 = X[num_col].quantile(0.03)\n",
    "    Q3 = X[num_col].quantile(0.97)\n",
    "    IQR = Q3 - Q1\n",
    "    outliers_iqr = ((X[num_col] < (Q1 - 1.5 * IQR)) | (X[num_col] > (Q3 + 1.5 * IQR))).any(axis=1)\n",
    "    outliers_combined = outliers_z | outliers_iqr\n",
    "    \n",
    "    return outliers_combined\n",
    "\n",
    "# This function takes a data frame and gives missing column information\n",
    "def show_pc_miss(df):\n",
    "    # Create temp arrays\n",
    "    col_names = []\n",
    "    perc_missing = []\n",
    "    \n",
    "    # Create a column and percentage listing\n",
    "    for item in df.columns:\n",
    "        col_names.append(item)\n",
    "        perc_missing.append(round((df[item].isna().sum() / len(df[item])) * 100, 2))\n",
    "\n",
    "    # Create a dataframe with columns and percentage missing\n",
    "    output = pd.DataFrame({\n",
    "        'col_names': col_names, \n",
    "        'perc_missing': perc_missing\n",
    "    })    \n",
    "        \n",
    "    return output\n",
    "\n",
    "# This function thresholds missing row information and removes those rows\n",
    "def thres_row(df, thresh_perc):\n",
    "    # Row Thresholding\n",
    "    df_res = df.dropna(axis=0, thresh=(df.shape[1] - thresh_perc))\n",
    "    \n",
    "    return df_res\n",
    "\n",
    "# Imputes the data to relieve missing information\n",
    "def impute_all_data(X, cat_cols, num_cols):\n",
    "    # create working copy\n",
    "    df_res = X.copy()\n",
    "    \n",
    "    # ImputeNumeric\n",
    "    mean_puter = SimpleImputer(strategy='mean')\n",
    "    df_res[num_cols] = mean_puter.fit_transform(df_res[num_cols])\n",
    "\n",
    "    # ImputeCategories\n",
    "    freqs_puter = SimpleImputer(strategy='most_frequent')\n",
    "    df_res[cat_cols] = freqs_puter.fit_transform(df_res[cat_cols])\n",
    "    \n",
    "    return df_res\n",
    "    \n",
    "# Encode all label data for category columns\n",
    "def encode_data(df, cat_cols):\n",
    "    # This is to encode each category into a numeric form\n",
    "    label_encoder = preprocessing.LabelEncoder()\n",
    "    \n",
    "    # create working copy\n",
    "    df_res = df.copy()\n",
    "\n",
    "    for col in cat_cols:\n",
    "        df_res[col] = label_encoder.fit_transform(df_res[col])\n",
    "    \n",
    "    return df_res\n",
    "\n"
   ]
  },
  {
   "attachments": {},
   "cell_type": "markdown",
   "metadata": {},
   "source": [
    "Then we will create a final bridge function that will maintain the calls for the helper functions so that it is easily used on any new data we might want to pre-process"
   ]
  },
  {
   "cell_type": "code",
   "execution_count": 5,
   "metadata": {
    "collapsed": false
   },
   "outputs": [],
   "source": [
    "# It is normally not advised but because in previous assignments we have done the exploration let's data clean all at once with a function we make here.\n",
    "def clean_all(X, y, drop_thresh):\n",
    "    \n",
    "    ### Make temp copies ###\n",
    "    \n",
    "    tmp_X = X.copy()\n",
    "    tmp_y = y.copy()\n",
    "    \n",
    "    ### Begin with getting rid of unreasonable incomplete data ###\n",
    "    \n",
    "    \n",
    "    # This gets rid of non-uniquely identified columns\n",
    "    tmp_X = col_uniques(X)\n",
    "\n",
    "\n",
    "    # Find columns to drop\n",
    "    df_missing_cols = show_pc_miss(tmp_X)\n",
    "    drop_cols = df_missing_cols[df_missing_cols.perc_missing>drop_thresh]\n",
    "    ##DebugStatements\n",
    "    print(\"Columns to drop with criteria of \", drop_thresh ,\"%\")\n",
    "    print(drop_cols)\n",
    "    \n",
    "    # Drop Columns\n",
    "    tmp_X = tmp_X.drop(columns=drop_cols['col_names'])\n",
    "    \n",
    "    # Drop Rows\n",
    "    tmp_X = thres_row(tmp_X, drop_thresh)\n",
    "        \n",
    "    # Gather new row data\n",
    "    cat_cols = tmp_X.select_dtypes(exclude=['number']).columns\n",
    "    num_cols = tmp_X.select_dtypes(include=['number']).columns\n",
    "\n",
    "    ### Remove outliers ###\n",
    "    \n",
    "    # select with a larger zscore than 3\n",
    "    tmp_outliers = get_outliers(tmp_X,3,num_cols)\n",
    "    tmp_X = tmp_X[~tmp_outliers]\n",
    "    \n",
    "    ### Impute remaining data\n",
    "    \n",
    "    tmp_X = impute_all_data(tmp_X, cat_cols, num_cols)\n",
    "    \n",
    "    ### Encode categorical data ####\n",
    "    \n",
    "    tmp_X = encode_data(tmp_X, cat_cols)\n",
    "    \n",
    "    ### Match X and y ####\n",
    "    \n",
    "    tmp_y=tmp_y[tmp_X.index]\n",
    "    \n",
    "    # Recombine to remove missing target data\n",
    "    df_res = tmp_X\n",
    "    df_res[\"TARGET\"] = tmp_y\n",
    "    \n",
    "    # Remove missing target data\n",
    "    df_res = df_res.dropna()\n",
    "    \n",
    "    return df_res"
   ]
  },
  {
   "attachments": {},
   "cell_type": "markdown",
   "metadata": {
    "collapsed": false
   },
   "source": [
    "Create a new target column from 'NAME_CONTRACT_STATUS' column in Previous_application.csv"
   ]
  },
  {
   "cell_type": "code",
   "execution_count": 6,
   "metadata": {
    "collapsed": false
   },
   "outputs": [],
   "source": [
    "# Create X and y values based on ... \n",
    "X = df_1.drop(columns=['TARGET', 'SK_ID_CURR'])\n",
    "y = df_1['TARGET']"
   ]
  },
  {
   "attachments": {},
   "cell_type": "markdown",
   "metadata": {},
   "source": [
    "#### Cleaning Steps\n",
    "\n",
    "1) Copy the data to ensure integrity of the old structure\n",
    "2) Remove non-uniquely identified columns\n",
    "3) Threshold out columns with 50% missing data or more\n",
    "4) Remove rows with more than 50% missing data or more\n",
    "5) We separate out numerical and categorical columns\n",
    "6) Remove large numerical outliers\n",
    "7) Mitigate missing data by imputation based on categorical vs numerical data\n",
    "8) Encode all categorical data\n",
    "9) Ensure that X and Y are matched in rows\n",
    "10) Recombine all data into a single frame to ensure compatibility \n",
    "11) Drop all rows with missing target data"
   ]
  },
  {
   "cell_type": "code",
   "execution_count": 7,
   "metadata": {
    "collapsed": false
   },
   "outputs": [
    {
     "name": "stdout",
     "output_type": "stream",
     "text": [
      "Columns to drop with criteria of  50 %\n",
      "                   col_names  perc_missing\n",
      "19               OWN_CAR_AGE         65.99\n",
      "39              EXT_SOURCE_1         56.38\n",
      "42            APARTMENTS_AVG         50.75\n",
      "43          BASEMENTAREA_AVG         58.52\n",
      "45           YEARS_BUILD_AVG         66.50\n",
      "46            COMMONAREA_AVG         69.87\n",
      "47             ELEVATORS_AVG         53.30\n",
      "48             ENTRANCES_AVG         50.35\n",
      "50             FLOORSMIN_AVG         67.85\n",
      "51              LANDAREA_AVG         59.38\n",
      "52      LIVINGAPARTMENTS_AVG         68.35\n",
      "53            LIVINGAREA_AVG         50.19\n",
      "54   NONLIVINGAPARTMENTS_AVG         69.43\n",
      "55         NONLIVINGAREA_AVG         55.18\n",
      "56           APARTMENTS_MODE         50.75\n",
      "57         BASEMENTAREA_MODE         58.52\n",
      "59          YEARS_BUILD_MODE         66.50\n",
      "60           COMMONAREA_MODE         69.87\n",
      "61            ELEVATORS_MODE         53.30\n",
      "62            ENTRANCES_MODE         50.35\n",
      "64            FLOORSMIN_MODE         67.85\n",
      "65             LANDAREA_MODE         59.38\n",
      "66     LIVINGAPARTMENTS_MODE         68.35\n",
      "67           LIVINGAREA_MODE         50.19\n",
      "68  NONLIVINGAPARTMENTS_MODE         69.43\n",
      "69        NONLIVINGAREA_MODE         55.18\n",
      "70           APARTMENTS_MEDI         50.75\n",
      "71         BASEMENTAREA_MEDI         58.52\n",
      "73          YEARS_BUILD_MEDI         66.50\n",
      "74           COMMONAREA_MEDI         69.87\n",
      "75            ELEVATORS_MEDI         53.30\n",
      "76            ENTRANCES_MEDI         50.35\n",
      "78            FLOORSMIN_MEDI         67.85\n",
      "79             LANDAREA_MEDI         59.38\n",
      "80     LIVINGAPARTMENTS_MEDI         68.35\n",
      "81           LIVINGAREA_MEDI         50.19\n",
      "82  NONLIVINGAPARTMENTS_MEDI         69.43\n",
      "83        NONLIVINGAREA_MEDI         55.18\n",
      "84        FONDKAPREMONT_MODE         68.39\n",
      "85            HOUSETYPE_MODE         50.18\n",
      "87        WALLSMATERIAL_MODE         50.84\n"
     ]
    },
    {
     "data": {
      "text/html": [
       "<div>\n",
       "<style scoped>\n",
       "    .dataframe tbody tr th:only-of-type {\n",
       "        vertical-align: middle;\n",
       "    }\n",
       "\n",
       "    .dataframe tbody tr th {\n",
       "        vertical-align: top;\n",
       "    }\n",
       "\n",
       "    .dataframe thead th {\n",
       "        text-align: right;\n",
       "    }\n",
       "</style>\n",
       "<table border=\"1\" class=\"dataframe\">\n",
       "  <thead>\n",
       "    <tr style=\"text-align: right;\">\n",
       "      <th></th>\n",
       "      <th>NAME_CONTRACT_TYPE</th>\n",
       "      <th>CODE_GENDER</th>\n",
       "      <th>FLAG_OWN_CAR</th>\n",
       "      <th>FLAG_OWN_REALTY</th>\n",
       "      <th>CNT_CHILDREN</th>\n",
       "      <th>AMT_INCOME_TOTAL</th>\n",
       "      <th>AMT_CREDIT</th>\n",
       "      <th>AMT_ANNUITY</th>\n",
       "      <th>AMT_GOODS_PRICE</th>\n",
       "      <th>NAME_TYPE_SUITE</th>\n",
       "      <th>...</th>\n",
       "      <th>FLAG_DOCUMENT_19</th>\n",
       "      <th>FLAG_DOCUMENT_20</th>\n",
       "      <th>FLAG_DOCUMENT_21</th>\n",
       "      <th>AMT_REQ_CREDIT_BUREAU_HOUR</th>\n",
       "      <th>AMT_REQ_CREDIT_BUREAU_DAY</th>\n",
       "      <th>AMT_REQ_CREDIT_BUREAU_WEEK</th>\n",
       "      <th>AMT_REQ_CREDIT_BUREAU_MON</th>\n",
       "      <th>AMT_REQ_CREDIT_BUREAU_QRT</th>\n",
       "      <th>AMT_REQ_CREDIT_BUREAU_YEAR</th>\n",
       "      <th>TARGET</th>\n",
       "    </tr>\n",
       "  </thead>\n",
       "  <tbody>\n",
       "    <tr>\n",
       "      <th>1</th>\n",
       "      <td>0</td>\n",
       "      <td>0</td>\n",
       "      <td>0</td>\n",
       "      <td>0</td>\n",
       "      <td>0.0</td>\n",
       "      <td>270000.0</td>\n",
       "      <td>1293502.5</td>\n",
       "      <td>35698.5</td>\n",
       "      <td>1129500.0</td>\n",
       "      <td>1</td>\n",
       "      <td>...</td>\n",
       "      <td>0.0</td>\n",
       "      <td>0.0</td>\n",
       "      <td>0.0</td>\n",
       "      <td>0.0</td>\n",
       "      <td>0.0</td>\n",
       "      <td>0.0</td>\n",
       "      <td>0.000000</td>\n",
       "      <td>0.000000</td>\n",
       "      <td>0.000000</td>\n",
       "      <td>0</td>\n",
       "    </tr>\n",
       "    <tr>\n",
       "      <th>2</th>\n",
       "      <td>1</td>\n",
       "      <td>1</td>\n",
       "      <td>1</td>\n",
       "      <td>1</td>\n",
       "      <td>0.0</td>\n",
       "      <td>67500.0</td>\n",
       "      <td>135000.0</td>\n",
       "      <td>6750.0</td>\n",
       "      <td>135000.0</td>\n",
       "      <td>6</td>\n",
       "      <td>...</td>\n",
       "      <td>0.0</td>\n",
       "      <td>0.0</td>\n",
       "      <td>0.0</td>\n",
       "      <td>0.0</td>\n",
       "      <td>0.0</td>\n",
       "      <td>0.0</td>\n",
       "      <td>0.000000</td>\n",
       "      <td>0.000000</td>\n",
       "      <td>0.000000</td>\n",
       "      <td>0</td>\n",
       "    </tr>\n",
       "    <tr>\n",
       "      <th>3</th>\n",
       "      <td>0</td>\n",
       "      <td>0</td>\n",
       "      <td>0</td>\n",
       "      <td>1</td>\n",
       "      <td>0.0</td>\n",
       "      <td>135000.0</td>\n",
       "      <td>312682.5</td>\n",
       "      <td>29686.5</td>\n",
       "      <td>297000.0</td>\n",
       "      <td>6</td>\n",
       "      <td>...</td>\n",
       "      <td>0.0</td>\n",
       "      <td>0.0</td>\n",
       "      <td>0.0</td>\n",
       "      <td>0.0</td>\n",
       "      <td>0.0</td>\n",
       "      <td>0.0</td>\n",
       "      <td>0.186701</td>\n",
       "      <td>0.236791</td>\n",
       "      <td>1.832056</td>\n",
       "      <td>0</td>\n",
       "    </tr>\n",
       "    <tr>\n",
       "      <th>5</th>\n",
       "      <td>0</td>\n",
       "      <td>1</td>\n",
       "      <td>0</td>\n",
       "      <td>1</td>\n",
       "      <td>0.0</td>\n",
       "      <td>99000.0</td>\n",
       "      <td>490495.5</td>\n",
       "      <td>27517.5</td>\n",
       "      <td>454500.0</td>\n",
       "      <td>5</td>\n",
       "      <td>...</td>\n",
       "      <td>0.0</td>\n",
       "      <td>0.0</td>\n",
       "      <td>0.0</td>\n",
       "      <td>0.0</td>\n",
       "      <td>0.0</td>\n",
       "      <td>0.0</td>\n",
       "      <td>0.000000</td>\n",
       "      <td>1.000000</td>\n",
       "      <td>1.000000</td>\n",
       "      <td>0</td>\n",
       "    </tr>\n",
       "    <tr>\n",
       "      <th>7</th>\n",
       "      <td>0</td>\n",
       "      <td>1</td>\n",
       "      <td>1</td>\n",
       "      <td>1</td>\n",
       "      <td>0.0</td>\n",
       "      <td>360000.0</td>\n",
       "      <td>1530000.0</td>\n",
       "      <td>42075.0</td>\n",
       "      <td>1530000.0</td>\n",
       "      <td>6</td>\n",
       "      <td>...</td>\n",
       "      <td>0.0</td>\n",
       "      <td>0.0</td>\n",
       "      <td>0.0</td>\n",
       "      <td>0.0</td>\n",
       "      <td>0.0</td>\n",
       "      <td>0.0</td>\n",
       "      <td>0.000000</td>\n",
       "      <td>0.000000</td>\n",
       "      <td>0.000000</td>\n",
       "      <td>0</td>\n",
       "    </tr>\n",
       "  </tbody>\n",
       "</table>\n",
       "<p>5 rows × 80 columns</p>\n",
       "</div>"
      ],
      "text/plain": [
       "   NAME_CONTRACT_TYPE  CODE_GENDER  FLAG_OWN_CAR  FLAG_OWN_REALTY  \\\n",
       "1                   0            0             0                0   \n",
       "2                   1            1             1                1   \n",
       "3                   0            0             0                1   \n",
       "5                   0            1             0                1   \n",
       "7                   0            1             1                1   \n",
       "\n",
       "   CNT_CHILDREN  AMT_INCOME_TOTAL  AMT_CREDIT  AMT_ANNUITY  AMT_GOODS_PRICE  \\\n",
       "1           0.0          270000.0   1293502.5      35698.5        1129500.0   \n",
       "2           0.0           67500.0    135000.0       6750.0         135000.0   \n",
       "3           0.0          135000.0    312682.5      29686.5         297000.0   \n",
       "5           0.0           99000.0    490495.5      27517.5         454500.0   \n",
       "7           0.0          360000.0   1530000.0      42075.0        1530000.0   \n",
       "\n",
       "   NAME_TYPE_SUITE  ...  FLAG_DOCUMENT_19  FLAG_DOCUMENT_20  FLAG_DOCUMENT_21  \\\n",
       "1                1  ...               0.0               0.0               0.0   \n",
       "2                6  ...               0.0               0.0               0.0   \n",
       "3                6  ...               0.0               0.0               0.0   \n",
       "5                5  ...               0.0               0.0               0.0   \n",
       "7                6  ...               0.0               0.0               0.0   \n",
       "\n",
       "   AMT_REQ_CREDIT_BUREAU_HOUR  AMT_REQ_CREDIT_BUREAU_DAY  \\\n",
       "1                         0.0                        0.0   \n",
       "2                         0.0                        0.0   \n",
       "3                         0.0                        0.0   \n",
       "5                         0.0                        0.0   \n",
       "7                         0.0                        0.0   \n",
       "\n",
       "   AMT_REQ_CREDIT_BUREAU_WEEK  AMT_REQ_CREDIT_BUREAU_MON  \\\n",
       "1                         0.0                   0.000000   \n",
       "2                         0.0                   0.000000   \n",
       "3                         0.0                   0.186701   \n",
       "5                         0.0                   0.000000   \n",
       "7                         0.0                   0.000000   \n",
       "\n",
       "   AMT_REQ_CREDIT_BUREAU_QRT  AMT_REQ_CREDIT_BUREAU_YEAR  TARGET  \n",
       "1                   0.000000                    0.000000       0  \n",
       "2                   0.000000                    0.000000       0  \n",
       "3                   0.236791                    1.832056       0  \n",
       "5                   1.000000                    1.000000       0  \n",
       "7                   0.000000                    0.000000       0  \n",
       "\n",
       "[5 rows x 80 columns]"
      ]
     },
     "execution_count": 7,
     "metadata": {},
     "output_type": "execute_result"
    }
   ],
   "source": [
    "working_df = clean_all(X, y, 50)\n",
    "working_df.head(5)"
   ]
  },
  {
   "cell_type": "code",
   "execution_count": 8,
   "metadata": {
    "collapsed": false
   },
   "outputs": [],
   "source": [
    "# Split out new data into X and y for training purposes\n",
    "X = working_df.drop(columns=['TARGET'])\n",
    "y = working_df['TARGET']\n",
    "\n",
    "# Split data further into training and test sets\n",
    "X_train, X_test, y_train, y_test = train_test_split(X, y, test_size=0.2, random_state=42)"
   ]
  },
  {
   "attachments": {},
   "cell_type": "markdown",
   "metadata": {
    "collapsed": false
   },
   "source": [
    "#### Data Modeling\n",
    "\n",
    "We have successfully cleaned our data to a workable standard so now we can attempt to start creating models"
   ]
  },
  {
   "attachments": {},
   "cell_type": "markdown",
   "metadata": {},
   "source": [
    "The first model we will work with will be the Random Forest Classifier. This will give us good information about the top data features as well as and idea if our data is sufficient to train a somewhat accurate model. We will first do this by testing the model over a number of estimators to see what would work the best for our model."
   ]
  },
  {
   "cell_type": "code",
   "execution_count": 9,
   "metadata": {},
   "outputs": [],
   "source": [
    "# Create Model\n",
    "# model = RandomForestClassifier()"
   ]
  },
  {
   "cell_type": "code",
   "execution_count": 10,
   "metadata": {},
   "outputs": [],
   "source": [
    "# # Try different numbers of n_estimators - 100 to 600\n",
    "# estimators = np.arange(100, 600, 50)\n",
    "# scores = []\n",
    "# for n in estimators:\n",
    "#     model.set_params(n_estimators=n)\n",
    "#     model.fit(X_train, y_train)\n",
    "#     scores.append(model.score(X_test, y_test))\n",
    "# print(scores)   "
   ]
  },
  {
   "cell_type": "code",
   "execution_count": 11,
   "metadata": {},
   "outputs": [],
   "source": [
    "# # This graph will let us see the effect of the estimators\n",
    "# plt.title(\"Effect of n_estimators\")\n",
    "# plt.xlabel(\"n_estimator\")\n",
    "# plt.ylabel(\"score\")\n",
    "# plt.plot(estimators, scores)"
   ]
  },
  {
   "attachments": {},
   "cell_type": "markdown",
   "metadata": {},
   "source": [
    "This is our conclusion of random forest bs need results DO NOT LET ME FORGET TO UPDATE THIS PLEASE"
   ]
  },
  {
   "cell_type": "code",
   "execution_count": 12,
   "metadata": {},
   "outputs": [],
   "source": [
    "# Create Model\n",
    "rf = RandomForestClassifier(n_estimators=100, n_jobs=-3, random_state=42)\n",
    "rf.fit(X_train, y_train)\n",
    "y_hat = rf.predict(X_train) # Predict the response for train dataset\n",
    "y_pred = rf.predict(X_test) # Predict the response for test dataset"
   ]
  },
  {
   "attachments": {},
   "cell_type": "markdown",
   "metadata": {},
   "source": [
    "Now we are going to create some helper functions that will allow us to view the results more readily."
   ]
  },
  {
   "cell_type": "code",
   "execution_count": 13,
   "metadata": {},
   "outputs": [],
   "source": [
    "# Creating function that handles the fitting na predictions\n",
    "def model_fit_pred(cls, X_train, y_train,top_features):\n",
    "    # Fitting the model first before predictions\n",
    "    cls = cls.fit(X_train[top_features],y_train)\n",
    "\n",
    "    # Predicting the response from the dataset\n",
    "    y_head = cls.predict(X_train[top_features])\n",
    "    y_pred = cls.predict(X_test[top_features])\n",
    "\n",
    "    # Return the classifier, y_head, and then the y_pred\n",
    "    return cls, y_hat, y_pred\n",
    "\n",
    "\n",
    "# Outputting the train/test accuracy and F1 Score\n",
    "def model_results(y_train, y_test, y_hat, y_pred):\n",
    "    # Finding the F1 score\n",
    "    f1 = metrics.f1_score(y_pred, y_test, average='weighted')\n",
    "\n",
    "    # Display the Train/Test Accuracy and then the F1 score\n",
    "    print(\"Train Accuracy; \", metrics.accuracy_score(y_train, y_hat))\n",
    "    print(\"Test Accuracy: \", metrics.accuracy_score(y_test,y_pred))\n",
    "    print(\"F1 Score: \", f1)\n",
    "\n",
    "\n",
    "# Creating a Confusion Matrix for the Models\n",
    "def model_CM(y_test, y_pred, title_name):\n",
    "    # Creating the Confusion Matrix\n",
    "    confusion_matrix = metrics.confusion_matrix(y_test,y_pred)\n",
    "    \n",
    "    # Plotting the Confusion Matrix\n",
    "    metrics.ConfusionMatrixDisplay(confusion_matrix=confusion_matrix).plot()\n",
    "\n",
    "    # Adding the the title of the plot\n",
    "    plt.title(title_name)\n",
    "    plt.show()\n",
    "\n"
   ]
  },
  {
   "cell_type": "code",
   "execution_count": 14,
   "metadata": {},
   "outputs": [
    {
     "name": "stdout",
     "output_type": "stream",
     "text": [
      "Train Accuracy;  0.9999704001894388\n",
      "Test Accuracy:  0.9179221548024271\n",
      "F1 Score:  0.9571185553112974\n"
     ]
    },
    {
     "data": {
      "image/png": "[encoded data removed]",
      "text/plain": [
       "<Figure size 432x288 with 2 Axes>"
      ]
     },
     "metadata": {
      "needs_background": "light"
     },
     "output_type": "display_data"
    }
   ],
   "source": [
    "# Print out a nicely formatted results table\n",
    "model_results(y_train, y_test, y_hat, y_pred)\n",
    "\n",
    "# Create the confusion table\n",
    "model_CM(y_test, y_pred,\"Whatever is in there\")"
   ]
  },
  {
   "cell_type": "code",
   "execution_count": 15,
   "metadata": {},
   "outputs": [
    {
     "data": {
      "image/png": "[encoded data removed]",
      "text/plain": [
       "<Figure size 432x288 with 1 Axes>"
      ]
     },
     "metadata": {
      "needs_background": "light"
     },
     "output_type": "display_data"
    }
   ],
   "source": [
    "# Grabbing the top features\n",
    "importance = rf.feature_importances_\n",
    "top_indices = np.argsort(importance)\n",
    "\n",
    "# Creating our X and y axis for plotting\n",
    "x_axis = importance[top_indices]\n",
    "y_axis = X.columns[top_indices]\n",
    "\n",
    "# Number of features we are looking for\n",
    "value = 15\n",
    "\n",
    "# ordering it from greatest to least importance\n",
    "x_axis = x_axis[-value:]\n",
    "y_axis = y_axis[-value:]\n",
    "\n",
    "# Plot\n",
    "plt.figure(1)\n",
    "plt.title('Feature Importances(Top ' + str(value) + ' loaded)')\n",
    "plt.barh(range(value), x_axis, color='b', align='center')\n",
    "plt.yticks(range(value), y_axis)\n",
    "plt.xlabel('Relative Importance')\n",
    "plt.show()\n",
    "\n",
    "# Set up x and y parameters\n",
    "X = working_df[y_axis[-value:]] # Features by dropping the target column\n",
    "y = working_df.TARGET # Target variable"
   ]
  },
  {
   "cell_type": "code",
   "execution_count": 16,
   "metadata": {},
   "outputs": [],
   "source": [
    "# Training and Testing with the top features\n",
    "X_train, X_test, y_train, y_test = train_test_split(X, y, test_size=0.2, random_state=42)"
   ]
  },
  {
   "cell_type": "code",
   "execution_count": 17,
   "metadata": {},
   "outputs": [
    {
     "name": "stdout",
     "output_type": "stream",
     "text": [
      "[0.9179221548024271, 0.9178037590646737, 0.917833357999112, 0.9177741601302353, 0.9177741601302353, 0.9175669675891668, 0.9176557643924819, 0.917744561195797, 0.917833357999112, 0.9177741601302353]\n"
     ]
    }
   ],
   "source": [
    "#Create Model\n",
    "model_final = RandomForestClassifier()\n",
    "\n",
    "# Try different numbers of n_estimators - 100 to 600\n",
    "estimators = np.arange(100,600, 50)\n",
    "scores = []\n",
    "for n in estimators:\n",
    "    model_final.set_params(n_estimators=n)\n",
    "    model_final.fit(X_train, y_train)\n",
    "    scores.append(model_final.score(X_test, y_test))\n",
    "print(scores)   "
   ]
  },
  {
   "cell_type": "code",
   "execution_count": 18,
   "metadata": {},
   "outputs": [
    {
     "data": {
      "text/plain": [
       "[<matplotlib.lines.Line2D at 0x1c46298db80>]"
      ]
     },
     "execution_count": 18,
     "metadata": {},
     "output_type": "execute_result"
    },
    {
     "data": {
      "image/png": "[encoded data removed]",
      "text/plain": [
       "<Figure size 432x288 with 1 Axes>"
      ]
     },
     "metadata": {
      "needs_background": "light"
     },
     "output_type": "display_data"
    }
   ],
   "source": [
    "# This graph will let us see the effect of the estimators\n",
    "plt.title(\"Effect of n_estimators\")\n",
    "plt.xlabel(\"n_estimator\")\n",
    "plt.ylabel(\"score\")\n",
    "plt.plot(estimators, scores)"
   ]
  },
  {
   "cell_type": "code",
   "execution_count": 19,
   "metadata": {},
   "outputs": [],
   "source": [
    "# Create the final model\n",
    "rf_final = RandomForestClassifier(n_estimators=100, n_jobs=-3, random_state=42)\n",
    "rf_final.fit(X_train, y_train)\n",
    "y_hat = rf_final.predict(X_train) # Predict the response for train dataset\n",
    "y_pred = rf_final.predict(X_test) # Predict the response for test dataset"
   ]
  },
  {
   "cell_type": "code",
   "execution_count": 20,
   "metadata": {},
   "outputs": [
    {
     "name": "stdout",
     "output_type": "stream",
     "text": [
      "Train Accuracy;  0.999977800142079\n",
      "Test Accuracy:  0.9176853633269202\n",
      "F1 Score:  0.9557382077781942\n"
     ]
    },
    {
     "data": {
      "image/png": "[encoded data removed]",
      "text/plain": [
       "<Figure size 432x288 with 2 Axes>"
      ]
     },
     "metadata": {
      "needs_background": "light"
     },
     "output_type": "display_data"
    }
   ],
   "source": [
    "# Print out a nicely formatted results table\n",
    "model_results(y_train, y_test, y_hat, y_pred)\n",
    "\n",
    "# Create the confusion table\n",
    "model_CM(y_test, y_pred,\"Whatever is in there\")"
   ]
  },
  {
   "cell_type": "code",
   "execution_count": 21,
   "metadata": {},
   "outputs": [],
   "source": [
    "#TODO:\n",
    "# 1. Show the results of the random forest\n",
    "# 2. Create a new RF model, fit and predict it, and then compare it to the old model\n",
    "#       - see if it outperforms the old model or not. \n",
    "# 3. Do a little bit of work for the gradient boost:\n",
    "#     - Use the features derived from the new random forest model\n",
    "#     - max depth of gradient boosting\n",
    "#     - recreate the gradient_boosting final to show the end results\n",
    "# 3. Bayesian:\n",
    "#     - create our Bayesian Model using the previous application dataset and then apply to the GBC and see the improvments. "
   ]
  },
  {
   "cell_type": "code",
   "execution_count": 22,
   "metadata": {},
   "outputs": [],
   "source": [
    "# Create the GBC, SVM and Naive Bayes model\n",
    "gbc_clf = GradientBoostingClassifier()  # parameterize it later\n",
    "nb_clf = GaussianNB()                   # parameterize it later\n",
    "svm_clf = SVC()                         # parameterize it later"
   ]
  },
  {
   "cell_type": "code",
   "execution_count": 23,
   "metadata": {},
   "outputs": [
    {
     "ename": "NameError",
     "evalue": "name 'top_features' is not defined",
     "output_type": "error",
     "traceback": [
      "\u001b[1;31m---------------------------------------------------------------------------\u001b[0m",
      "\u001b[1;31mNameError\u001b[0m                                 Traceback (most recent call last)",
      "\u001b[1;32m~\\AppData\\Local\\Temp/ipykernel_21968/86545142.py\u001b[0m in \u001b[0;36m<module>\u001b[1;34m\u001b[0m\n\u001b[0;32m      1\u001b[0m \u001b[1;31m# Fitting and Predicting\u001b[0m\u001b[1;33m\u001b[0m\u001b[1;33m\u001b[0m\u001b[0m\n\u001b[1;32m----> 2\u001b[1;33m \u001b[0mgbc_clf\u001b[0m\u001b[1;33m,\u001b[0m \u001b[0my_hat_gbc\u001b[0m\u001b[1;33m,\u001b[0m \u001b[0my_pred_gbc\u001b[0m \u001b[1;33m=\u001b[0m \u001b[0mmodel_fit_pred\u001b[0m\u001b[1;33m(\u001b[0m\u001b[0mgbc_clf\u001b[0m\u001b[1;33m,\u001b[0m \u001b[0mX_train\u001b[0m\u001b[1;33m,\u001b[0m \u001b[0my_train\u001b[0m\u001b[1;33m,\u001b[0m \u001b[0mtop_features\u001b[0m\u001b[1;33m)\u001b[0m\u001b[1;33m\u001b[0m\u001b[1;33m\u001b[0m\u001b[0m\n\u001b[0m\u001b[0;32m      3\u001b[0m \u001b[0mnb_clf\u001b[0m\u001b[1;33m,\u001b[0m \u001b[0my_hat_nb\u001b[0m\u001b[1;33m,\u001b[0m \u001b[0my_pred_nb\u001b[0m \u001b[1;33m=\u001b[0m \u001b[0mmodel_fit_pred\u001b[0m\u001b[1;33m(\u001b[0m\u001b[0mnb_clf\u001b[0m\u001b[1;33m,\u001b[0m \u001b[0mX_train\u001b[0m\u001b[1;33m,\u001b[0m \u001b[0my_train\u001b[0m\u001b[1;33m,\u001b[0m \u001b[0mtop_features\u001b[0m\u001b[1;33m)\u001b[0m\u001b[1;33m\u001b[0m\u001b[1;33m\u001b[0m\u001b[0m\n\u001b[0;32m      4\u001b[0m \u001b[0msvm_clf\u001b[0m\u001b[1;33m,\u001b[0m \u001b[0my_hat_svm\u001b[0m\u001b[1;33m,\u001b[0m \u001b[0my_pred_svm\u001b[0m \u001b[1;33m=\u001b[0m \u001b[0mmodel_fit_pred\u001b[0m\u001b[1;33m(\u001b[0m\u001b[0msvm_clf\u001b[0m\u001b[1;33m,\u001b[0m \u001b[0mX_train\u001b[0m\u001b[1;33m,\u001b[0m \u001b[0my_train\u001b[0m\u001b[1;33m,\u001b[0m \u001b[0mtop_features\u001b[0m\u001b[1;33m)\u001b[0m\u001b[1;33m\u001b[0m\u001b[1;33m\u001b[0m\u001b[0m\n",
      "\u001b[1;31mNameError\u001b[0m: name 'top_features' is not defined"
     ]
    }
   ],
   "source": [
    "# Fitting and Predicting\n",
    "gbc_clf, y_hat_gbc, y_pred_gbc = model_fit_pred(gbc_clf, X_train, y_train, top_features)\n",
    "nb_clf, y_hat_nb, y_pred_nb = model_fit_pred(nb_clf, X_train, y_train, top_features)\n",
    "svm_clf, y_hat_svm, y_pred_svm = model_fit_pred(svm_clf, X_train, y_train, top_features)"
   ]
  },
  {
   "cell_type": "code",
   "execution_count": null,
   "metadata": {},
   "outputs": [],
   "source": [
    "# Outputting the Results\n",
    "gbc_results = model_results(y_train,y_test,y_hat_gbc,y_pred_gbc)"
   ]
  },
  {
   "cell_type": "code",
   "execution_count": null,
   "metadata": {},
   "outputs": [],
   "source": [
    "nb_clf_results = model_results(y_train,y_test,y_hat_nb,y_pred_nb)"
   ]
  },
  {
   "cell_type": "code",
   "execution_count": null,
   "metadata": {},
   "outputs": [],
   "source": [
    "svm_results = model_results(y_train,y_test,y_hat_svm,y_pred_svm)"
   ]
  }
 ],
 "metadata": {
  "kernelspec": {
   "display_name": "Python 3",
   "language": "python",
   "name": "python3"
  },
  "language_info": {
   "codemirror_mode": {
    "name": "ipython",
    "version": 3
   },
   "file_extension": ".py",
   "mimetype": "text/x-python",
   "name": "python",
   "nbconvert_exporter": "python",
   "pygments_lexer": "ipython3",
   "version": "3.9.7"
  }
 },
 "nbformat": 4,
 "nbformat_minor": 0
}
