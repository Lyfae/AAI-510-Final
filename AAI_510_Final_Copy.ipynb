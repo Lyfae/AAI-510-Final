{
 "cells": [
  {
   "attachments": {},
   "cell_type": "markdown",
   "metadata": {},
   "source": [
    "##### $Name:\\,\\color{blue}{Christopher\\,J.\\,Watson\\,,Jessica\\,Robledo\\,,Paul\\,Thai}$\n",
    "##### $School:\\,\\color{blue}{Marcos\\,School\\,of\\,Engineering,\\,University\\,of\\,San\\,Diego}$\n",
    "##### $Class:\\,\\color{blue}{AAI\\,510-\\,Machine\\,Learning\\,Fundamentals}$\n",
    "##### $Assignment:\\,\\color{blue}{MSAAI\\,Final\\,Project}$\n",
    "##### $Date:\\,\\color{blue}{6/22/2023}$"
   ]
  },
  {
   "cell_type": "code",
   "execution_count": 1,
   "metadata": {},
   "outputs": [],
   "source": [
    "\n",
    "# Import Libraries\n",
    "# Basic\n",
    "import pandas as pd\n",
    "import numpy as np\n",
    "\n",
    "# Visualizations\n",
    "import seaborn as sns\n",
    "import matplotlib.pyplot as plt \n",
    "%matplotlib inline\n",
    "\n",
    "# Imputation\n",
    "from sklearn.impute import SimpleImputer\n",
    "\n",
    "# Metrics\n",
    "from sklearn import metrics\n",
    "\n",
    "# Data Processing\n",
    "from sklearn import preprocessing\n",
    "\n",
    "# Testing set\n",
    "from sklearn.model_selection import train_test_split\n",
    "\n",
    "# Classifier model libraries\n",
    "from sklearn.ensemble import RandomForestClassifier\n",
    "from sklearn.ensemble import GradientBoostingClassifier\n",
    "from sklearn.naive_bayes import GaussianNB\n",
    "from sklearn.model_selection import GridSearchCV\n",
    "from sklearn.preprocessing import StandardScaler\n",
    "from sklearn.svm import SVC"
   ]
  },
  {
   "cell_type": "code",
   "execution_count": 2,
   "metadata": {},
   "outputs": [],
   "source": [
    "# Read In Data Sets\n",
    "df_1 = pd.read_csv('./Home_Credit/application_train.csv')\n",
    "df_2 = pd.read_csv('./Home_Credit/previous_application.csv')\n"
   ]
  },
  {
   "attachments": {},
   "cell_type": "markdown",
   "metadata": {},
   "source": [
    "### Data Cleaning\n",
    "\n",
    "The data first needs to be cleaned and prepared for an efficient model to be generated."
   ]
  },
  {
   "cell_type": "code",
   "execution_count": 3,
   "metadata": {},
   "outputs": [
    {
     "name": "stdout",
     "output_type": "stream",
     "text": [
      "<class 'pandas.core.frame.DataFrame'>\n",
      "RangeIndex: 307511 entries, 0 to 307510\n",
      "Data columns (total 122 columns):\n",
      " #    Column                        Dtype  \n",
      "---   ------                        -----  \n",
      " 0    SK_ID_CURR                    int64  \n",
      " 1    TARGET                        int64  \n",
      " 2    NAME_CONTRACT_TYPE            object \n",
      " 3    CODE_GENDER                   object \n",
      " 4    FLAG_OWN_CAR                  object \n",
      " 5    FLAG_OWN_REALTY               object \n",
      " 6    CNT_CHILDREN                  int64  \n",
      " 7    AMT_INCOME_TOTAL              float64\n",
      " 8    AMT_CREDIT                    float64\n",
      " 9    AMT_ANNUITY                   float64\n",
      " 10   AMT_GOODS_PRICE               float64\n",
      " 11   NAME_TYPE_SUITE               object \n",
      " 12   NAME_INCOME_TYPE              object \n",
      " 13   NAME_EDUCATION_TYPE           object \n",
      " 14   NAME_FAMILY_STATUS            object \n",
      " 15   NAME_HOUSING_TYPE             object \n",
      " 16   REGION_POPULATION_RELATIVE    float64\n",
      " 17   DAYS_BIRTH                    int64  \n",
      " 18   DAYS_EMPLOYED                 int64  \n",
      " 19   DAYS_REGISTRATION             float64\n",
      " 20   DAYS_ID_PUBLISH               int64  \n",
      " 21   OWN_CAR_AGE                   float64\n",
      " 22   FLAG_MOBIL                    int64  \n",
      " 23   FLAG_EMP_PHONE                int64  \n",
      " 24   FLAG_WORK_PHONE               int64  \n",
      " 25   FLAG_CONT_MOBILE              int64  \n",
      " 26   FLAG_PHONE                    int64  \n",
      " 27   FLAG_EMAIL                    int64  \n",
      " 28   OCCUPATION_TYPE               object \n",
      " 29   CNT_FAM_MEMBERS               float64\n",
      " 30   REGION_RATING_CLIENT          int64  \n",
      " 31   REGION_RATING_CLIENT_W_CITY   int64  \n",
      " 32   WEEKDAY_APPR_PROCESS_START    object \n",
      " 33   HOUR_APPR_PROCESS_START       int64  \n",
      " 34   REG_REGION_NOT_LIVE_REGION    int64  \n",
      " 35   REG_REGION_NOT_WORK_REGION    int64  \n",
      " 36   LIVE_REGION_NOT_WORK_REGION   int64  \n",
      " 37   REG_CITY_NOT_LIVE_CITY        int64  \n",
      " 38   REG_CITY_NOT_WORK_CITY        int64  \n",
      " 39   LIVE_CITY_NOT_WORK_CITY       int64  \n",
      " 40   ORGANIZATION_TYPE             object \n",
      " 41   EXT_SOURCE_1                  float64\n",
      " 42   EXT_SOURCE_2                  float64\n",
      " 43   EXT_SOURCE_3                  float64\n",
      " 44   APARTMENTS_AVG                float64\n",
      " 45   BASEMENTAREA_AVG              float64\n",
      " 46   YEARS_BEGINEXPLUATATION_AVG   float64\n",
      " 47   YEARS_BUILD_AVG               float64\n",
      " 48   COMMONAREA_AVG                float64\n",
      " 49   ELEVATORS_AVG                 float64\n",
      " 50   ENTRANCES_AVG                 float64\n",
      " 51   FLOORSMAX_AVG                 float64\n",
      " 52   FLOORSMIN_AVG                 float64\n",
      " 53   LANDAREA_AVG                  float64\n",
      " 54   LIVINGAPARTMENTS_AVG          float64\n",
      " 55   LIVINGAREA_AVG                float64\n",
      " 56   NONLIVINGAPARTMENTS_AVG       float64\n",
      " 57   NONLIVINGAREA_AVG             float64\n",
      " 58   APARTMENTS_MODE               float64\n",
      " 59   BASEMENTAREA_MODE             float64\n",
      " 60   YEARS_BEGINEXPLUATATION_MODE  float64\n",
      " 61   YEARS_BUILD_MODE              float64\n",
      " 62   COMMONAREA_MODE               float64\n",
      " 63   ELEVATORS_MODE                float64\n",
      " 64   ENTRANCES_MODE                float64\n",
      " 65   FLOORSMAX_MODE                float64\n",
      " 66   FLOORSMIN_MODE                float64\n",
      " 67   LANDAREA_MODE                 float64\n",
      " 68   LIVINGAPARTMENTS_MODE         float64\n",
      " 69   LIVINGAREA_MODE               float64\n",
      " 70   NONLIVINGAPARTMENTS_MODE      float64\n",
      " 71   NONLIVINGAREA_MODE            float64\n",
      " 72   APARTMENTS_MEDI               float64\n",
      " 73   BASEMENTAREA_MEDI             float64\n",
      " 74   YEARS_BEGINEXPLUATATION_MEDI  float64\n",
      " 75   YEARS_BUILD_MEDI              float64\n",
      " 76   COMMONAREA_MEDI               float64\n",
      " 77   ELEVATORS_MEDI                float64\n",
      " 78   ENTRANCES_MEDI                float64\n",
      " 79   FLOORSMAX_MEDI                float64\n",
      " 80   FLOORSMIN_MEDI                float64\n",
      " 81   LANDAREA_MEDI                 float64\n",
      " 82   LIVINGAPARTMENTS_MEDI         float64\n",
      " 83   LIVINGAREA_MEDI               float64\n",
      " 84   NONLIVINGAPARTMENTS_MEDI      float64\n",
      " 85   NONLIVINGAREA_MEDI            float64\n",
      " 86   FONDKAPREMONT_MODE            object \n",
      " 87   HOUSETYPE_MODE                object \n",
      " 88   TOTALAREA_MODE                float64\n",
      " 89   WALLSMATERIAL_MODE            object \n",
      " 90   EMERGENCYSTATE_MODE           object \n",
      " 91   OBS_30_CNT_SOCIAL_CIRCLE      float64\n",
      " 92   DEF_30_CNT_SOCIAL_CIRCLE      float64\n",
      " 93   OBS_60_CNT_SOCIAL_CIRCLE      float64\n",
      " 94   DEF_60_CNT_SOCIAL_CIRCLE      float64\n",
      " 95   DAYS_LAST_PHONE_CHANGE        float64\n",
      " 96   FLAG_DOCUMENT_2               int64  \n",
      " 97   FLAG_DOCUMENT_3               int64  \n",
      " 98   FLAG_DOCUMENT_4               int64  \n",
      " 99   FLAG_DOCUMENT_5               int64  \n",
      " 100  FLAG_DOCUMENT_6               int64  \n",
      " 101  FLAG_DOCUMENT_7               int64  \n",
      " 102  FLAG_DOCUMENT_8               int64  \n",
      " 103  FLAG_DOCUMENT_9               int64  \n",
      " 104  FLAG_DOCUMENT_10              int64  \n",
      " 105  FLAG_DOCUMENT_11              int64  \n",
      " 106  FLAG_DOCUMENT_12              int64  \n",
      " 107  FLAG_DOCUMENT_13              int64  \n",
      " 108  FLAG_DOCUMENT_14              int64  \n",
      " 109  FLAG_DOCUMENT_15              int64  \n",
      " 110  FLAG_DOCUMENT_16              int64  \n",
      " 111  FLAG_DOCUMENT_17              int64  \n",
      " 112  FLAG_DOCUMENT_18              int64  \n",
      " 113  FLAG_DOCUMENT_19              int64  \n",
      " 114  FLAG_DOCUMENT_20              int64  \n",
      " 115  FLAG_DOCUMENT_21              int64  \n",
      " 116  AMT_REQ_CREDIT_BUREAU_HOUR    float64\n",
      " 117  AMT_REQ_CREDIT_BUREAU_DAY     float64\n",
      " 118  AMT_REQ_CREDIT_BUREAU_WEEK    float64\n",
      " 119  AMT_REQ_CREDIT_BUREAU_MON     float64\n",
      " 120  AMT_REQ_CREDIT_BUREAU_QRT     float64\n",
      " 121  AMT_REQ_CREDIT_BUREAU_YEAR    float64\n",
      "dtypes: float64(65), int64(41), object(16)\n",
      "memory usage: 286.2+ MB\n"
     ]
    }
   ],
   "source": [
    "# Peek at meta information from the dataset\n",
    "df_1.info(verbose=True)\n"
   ]
  },
  {
   "cell_type": "code",
   "execution_count": 4,
   "metadata": {},
   "outputs": [
    {
     "name": "stdout",
     "output_type": "stream",
     "text": [
      "<class 'pandas.core.frame.DataFrame'>\n",
      "RangeIndex: 1670214 entries, 0 to 1670213\n",
      "Data columns (total 37 columns):\n",
      " #   Column                       Non-Null Count    Dtype  \n",
      "---  ------                       --------------    -----  \n",
      " 0   SK_ID_PREV                   1670214 non-null  int64  \n",
      " 1   SK_ID_CURR                   1670214 non-null  int64  \n",
      " 2   NAME_CONTRACT_TYPE           1670214 non-null  object \n",
      " 3   AMT_ANNUITY                  1297979 non-null  float64\n",
      " 4   AMT_APPLICATION              1670214 non-null  float64\n",
      " 5   AMT_CREDIT                   1670213 non-null  float64\n",
      " 6   AMT_DOWN_PAYMENT             774370 non-null   float64\n",
      " 7   AMT_GOODS_PRICE              1284699 non-null  float64\n",
      " 8   WEEKDAY_APPR_PROCESS_START   1670214 non-null  object \n",
      " 9   HOUR_APPR_PROCESS_START      1670214 non-null  int64  \n",
      " 10  FLAG_LAST_APPL_PER_CONTRACT  1670214 non-null  object \n",
      " 11  NFLAG_LAST_APPL_IN_DAY       1670214 non-null  int64  \n",
      " 12  RATE_DOWN_PAYMENT            774370 non-null   float64\n",
      " 13  RATE_INTEREST_PRIMARY        5951 non-null     float64\n",
      " 14  RATE_INTEREST_PRIVILEGED     5951 non-null     float64\n",
      " 15  NAME_CASH_LOAN_PURPOSE       1670214 non-null  object \n",
      " 16  NAME_CONTRACT_STATUS         1670214 non-null  object \n",
      " 17  DAYS_DECISION                1670214 non-null  int64  \n",
      " 18  NAME_PAYMENT_TYPE            1670214 non-null  object \n",
      " 19  CODE_REJECT_REASON           1670214 non-null  object \n",
      " 20  NAME_TYPE_SUITE              849809 non-null   object \n",
      " 21  NAME_CLIENT_TYPE             1670214 non-null  object \n",
      " 22  NAME_GOODS_CATEGORY          1670214 non-null  object \n",
      " 23  NAME_PORTFOLIO               1670214 non-null  object \n",
      " 24  NAME_PRODUCT_TYPE            1670214 non-null  object \n",
      " 25  CHANNEL_TYPE                 1670214 non-null  object \n",
      " 26  SELLERPLACE_AREA             1670214 non-null  int64  \n",
      " 27  NAME_SELLER_INDUSTRY         1670214 non-null  object \n",
      " 28  CNT_PAYMENT                  1297984 non-null  float64\n",
      " 29  NAME_YIELD_GROUP             1670214 non-null  object \n",
      " 30  PRODUCT_COMBINATION          1669868 non-null  object \n",
      " 31  DAYS_FIRST_DRAWING           997149 non-null   float64\n",
      " 32  DAYS_FIRST_DUE               997149 non-null   float64\n",
      " 33  DAYS_LAST_DUE_1ST_VERSION    997149 non-null   float64\n",
      " 34  DAYS_LAST_DUE                997149 non-null   float64\n",
      " 35  DAYS_TERMINATION             997149 non-null   float64\n",
      " 36  NFLAG_INSURED_ON_APPROVAL    997149 non-null   float64\n",
      "dtypes: float64(15), int64(6), object(16)\n",
      "memory usage: 471.5+ MB\n"
     ]
    }
   ],
   "source": [
    "# Peek at meta information from the dataset\n",
    "df_2.info(verbose=True)\n"
   ]
  },
  {
   "attachments": {},
   "cell_type": "markdown",
   "metadata": {},
   "source": [
    "As there is a significant amount of data we will need a thorough amount of data preprocessing and cleaning. For that we will create some helper functions to ensure code maintainability."
   ]
  },
  {
   "cell_type": "code",
   "execution_count": 5,
   "metadata": {},
   "outputs": [],
   "source": [
    "# Helper Function definitions\n",
    "\n",
    "# Remove non-unique column data\n",
    "def col_uniques(X):\n",
    "    num_unique = X.nunique()\n",
    "    blank_uniform_cols = num_unique == 1\n",
    "    X_tmp = X.drop(blank_uniform_cols[blank_uniform_cols].index, axis=1)\n",
    "    # Print the remaining columns\n",
    "\n",
    "    return X_tmp\n",
    "\n",
    "# Gets the Outliers as an array\n",
    "\n",
    "\n",
    "def get_outliers(X, zthresh, num_col):\n",
    "    # Get Z Scores\n",
    "    z_scores = (X[num_col] - X[num_col].mean()) / X[num_col].std()\n",
    "\n",
    "    # Apply and get outliers\n",
    "    outliers_z = (z_scores > zthresh).any(axis=1)\n",
    "\n",
    "    Q1 = X[num_col].quantile(0.03)\n",
    "    Q3 = X[num_col].quantile(0.97)\n",
    "    IQR = Q3 - Q1\n",
    "    outliers_iqr = ((X[num_col] < (Q1 - 1.5 * IQR)) |\n",
    "                    (X[num_col] > (Q3 + 1.5 * IQR))).any(axis=1)\n",
    "    outliers_combined = outliers_z | outliers_iqr\n",
    "\n",
    "    return outliers_combined\n",
    "\n",
    "# This function takes a data frame and gives missing column information\n",
    "\n",
    "\n",
    "def show_pc_miss(df):\n",
    "    # Create temp arrays\n",
    "    col_names = []\n",
    "    perc_missing = []\n",
    "\n",
    "    # Create a column and percentage listing\n",
    "    for item in df.columns:\n",
    "        col_names.append(item)\n",
    "        perc_missing.append(\n",
    "            round((df[item].isna().sum() / len(df[item])) * 100, 2))\n",
    "\n",
    "    # Create a dataframe with columns and percentage missing\n",
    "    output = pd.DataFrame({\n",
    "        'col_names': col_names,\n",
    "        'perc_missing': perc_missing\n",
    "    })\n",
    "\n",
    "    return output\n",
    "\n",
    "# This function thresholds missing row information and removes those rows\n",
    "\n",
    "\n",
    "def thres_row(df, thresh_perc):\n",
    "    # Row Thresholding\n",
    "    df_res = df.dropna(axis=0, thresh=(df.shape[1] - thresh_perc))\n",
    "\n",
    "    return df_res\n",
    "\n",
    "# Imputes the data to relieve missing information\n",
    "\n",
    "\n",
    "def impute_all_data(X, cat_cols, num_cols):\n",
    "    # create working copy\n",
    "    df_res = X.copy()\n",
    "\n",
    "    # ImputeNumeric\n",
    "    mean_puter = SimpleImputer(strategy='mean')\n",
    "    df_res[num_cols] = mean_puter.fit_transform(df_res[num_cols])\n",
    "\n",
    "    # ImputeCategories\n",
    "    freqs_puter = SimpleImputer(strategy='most_frequent')\n",
    "    df_res[cat_cols] = freqs_puter.fit_transform(df_res[cat_cols])\n",
    "\n",
    "    return df_res\n",
    "\n",
    "# Encode all label data for category columns\n",
    "\n",
    "\n",
    "def encode_data(df, cat_cols):\n",
    "    # This is to encode each category into a numeric form\n",
    "    label_encoder = preprocessing.LabelEncoder()\n",
    "\n",
    "    # create working copy\n",
    "    df_res = df.copy()\n",
    "\n",
    "    for col in cat_cols:\n",
    "        df_res[col] = label_encoder.fit_transform(df_res[col])\n",
    "\n",
    "    return df_res\n"
   ]
  },
  {
   "attachments": {},
   "cell_type": "markdown",
   "metadata": {},
   "source": [
    "Then we will create a final bridge function that will maintain the calls for the helper functions so that it is easily used on any new data we might want to pre-process"
   ]
  },
  {
   "cell_type": "code",
   "execution_count": 6,
   "metadata": {},
   "outputs": [],
   "source": [
    "# It is normally not advised but because in previous assignments we have done the exploration let's data clean all at once with a function we make here.\n",
    "def clean_all(X, y, drop_thresh):\n",
    "\n",
    "    ### Make temp copies ###\n",
    "\n",
    "    tmp_X = X.copy()\n",
    "    tmp_y = y.copy()\n",
    "\n",
    "    ### Begin with getting rid of unreasonable incomplete data ###\n",
    "\n",
    "    # This gets rid of non-uniquely identified columns\n",
    "    tmp_X = col_uniques(X)\n",
    "\n",
    "    # Find columns to drop\n",
    "    df_missing_cols = show_pc_miss(tmp_X)\n",
    "    drop_cols = df_missing_cols[df_missing_cols.perc_missing > drop_thresh]\n",
    "    # DebugStatements\n",
    "    print(\"Columns to drop with criteria of \", drop_thresh, \"%\")\n",
    "    print(drop_cols)\n",
    "\n",
    "    # Drop Columns\n",
    "    tmp_X = tmp_X.drop(columns=drop_cols['col_names'])\n",
    "\n",
    "    # Drop Rows\n",
    "    tmp_X = thres_row(tmp_X, drop_thresh)\n",
    "\n",
    "    # Gather new row data\n",
    "    cat_cols = tmp_X.select_dtypes(exclude=['number']).columns\n",
    "    num_cols = tmp_X.select_dtypes(include=['number']).columns\n",
    "\n",
    "    ### Remove outliers ###\n",
    "\n",
    "    # select with a larger zscore than 3\n",
    "    tmp_outliers = get_outliers(tmp_X, 3, num_cols)\n",
    "    tmp_X = tmp_X[~tmp_outliers]\n",
    "\n",
    "    # Impute remaining data\n",
    "\n",
    "    tmp_X = impute_all_data(tmp_X, cat_cols, num_cols)\n",
    "\n",
    "    ### Encode categorical data ####\n",
    "\n",
    "    tmp_X = encode_data(tmp_X, cat_cols)\n",
    "\n",
    "    ### Match X and y ####\n",
    "\n",
    "    tmp_y = tmp_y[tmp_X.index]\n",
    "\n",
    "    # Recombine to remove missing target data\n",
    "    df_res = tmp_X\n",
    "    df_res[\"TARGET\"] = tmp_y\n",
    "\n",
    "    # Remove missing target data\n",
    "    df_res = df_res.dropna()\n",
    "\n",
    "    return df_res\n"
   ]
  },
  {
   "cell_type": "code",
   "execution_count": 7,
   "metadata": {},
   "outputs": [],
   "source": [
    "# Create X and y for the application CSV\n",
    "X = df_1.drop(columns=['TARGET'])\n",
    "y = df_1['TARGET']\n"
   ]
  },
  {
   "cell_type": "code",
   "execution_count": 8,
   "metadata": {},
   "outputs": [],
   "source": [
    "# Create X and y for the previous application CSV\n",
    "df_2['TARGET'] = (df_2['NAME_CONTRACT_STATUS'].isin(\n",
    "    ['Approved', 'Unused offer'])).astype(int)\n",
    "X_2 = df_2.drop(columns=['TARGET', 'NAME_CONTRACT_STATUS'])\n",
    "y_2 = df_2['TARGET']\n"
   ]
  },
  {
   "attachments": {},
   "cell_type": "markdown",
   "metadata": {},
   "source": [
    "#### Cleaning Steps\n",
    "\n",
    "1) Copy the data to ensure integrity of the old structure\n",
    "2) Remove non-uniquely identified columns\n",
    "3) Threshold out columns with 50% missing data or more\n",
    "4) Remove rows with more than 50% missing data or more\n",
    "5) We separate out numerical and categorical columns\n",
    "6) Remove large numerical outliers\n",
    "7) Mitigate missing data by imputation based on categorical vs numerical data\n",
    "8) Encode all categorical data\n",
    "9) Ensure that X and Y are matched in rows\n",
    "10) Recombine all data into a single frame to ensure compatibility \n",
    "11) Drop all rows with missing target data"
   ]
  },
  {
   "cell_type": "code",
   "execution_count": 9,
   "metadata": {},
   "outputs": [
    {
     "name": "stdout",
     "output_type": "stream",
     "text": [
      "Columns to drop with criteria of  50 %\n",
      "                   col_names  perc_missing\n",
      "20               OWN_CAR_AGE         65.99\n",
      "40              EXT_SOURCE_1         56.38\n",
      "43            APARTMENTS_AVG         50.75\n",
      "44          BASEMENTAREA_AVG         58.52\n",
      "46           YEARS_BUILD_AVG         66.50\n",
      "47            COMMONAREA_AVG         69.87\n",
      "48             ELEVATORS_AVG         53.30\n",
      "49             ENTRANCES_AVG         50.35\n",
      "51             FLOORSMIN_AVG         67.85\n",
      "52              LANDAREA_AVG         59.38\n",
      "53      LIVINGAPARTMENTS_AVG         68.35\n",
      "54            LIVINGAREA_AVG         50.19\n",
      "55   NONLIVINGAPARTMENTS_AVG         69.43\n",
      "56         NONLIVINGAREA_AVG         55.18\n",
      "57           APARTMENTS_MODE         50.75\n",
      "58         BASEMENTAREA_MODE         58.52\n",
      "60          YEARS_BUILD_MODE         66.50\n",
      "61           COMMONAREA_MODE         69.87\n",
      "62            ELEVATORS_MODE         53.30\n",
      "63            ENTRANCES_MODE         50.35\n",
      "65            FLOORSMIN_MODE         67.85\n",
      "66             LANDAREA_MODE         59.38\n",
      "67     LIVINGAPARTMENTS_MODE         68.35\n",
      "68           LIVINGAREA_MODE         50.19\n",
      "69  NONLIVINGAPARTMENTS_MODE         69.43\n",
      "70        NONLIVINGAREA_MODE         55.18\n",
      "71           APARTMENTS_MEDI         50.75\n",
      "72         BASEMENTAREA_MEDI         58.52\n",
      "74          YEARS_BUILD_MEDI         66.50\n",
      "75           COMMONAREA_MEDI         69.87\n",
      "76            ELEVATORS_MEDI         53.30\n",
      "77            ENTRANCES_MEDI         50.35\n",
      "79            FLOORSMIN_MEDI         67.85\n",
      "80             LANDAREA_MEDI         59.38\n",
      "81     LIVINGAPARTMENTS_MEDI         68.35\n",
      "82           LIVINGAREA_MEDI         50.19\n",
      "83  NONLIVINGAPARTMENTS_MEDI         69.43\n",
      "84        NONLIVINGAREA_MEDI         55.18\n",
      "85        FONDKAPREMONT_MODE         68.39\n",
      "86            HOUSETYPE_MODE         50.18\n",
      "88        WALLSMATERIAL_MODE         50.84\n"
     ]
    },
    {
     "data": {
      "text/html": [
       "<div>\n",
       "<style scoped>\n",
       "    .dataframe tbody tr th:only-of-type {\n",
       "        vertical-align: middle;\n",
       "    }\n",
       "\n",
       "    .dataframe tbody tr th {\n",
       "        vertical-align: top;\n",
       "    }\n",
       "\n",
       "    .dataframe thead th {\n",
       "        text-align: right;\n",
       "    }\n",
       "</style>\n",
       "<table border=\"1\" class=\"dataframe\">\n",
       "  <thead>\n",
       "    <tr style=\"text-align: right;\">\n",
       "      <th></th>\n",
       "      <th>SK_ID_CURR</th>\n",
       "      <th>NAME_CONTRACT_TYPE</th>\n",
       "      <th>CODE_GENDER</th>\n",
       "      <th>FLAG_OWN_CAR</th>\n",
       "      <th>FLAG_OWN_REALTY</th>\n",
       "      <th>CNT_CHILDREN</th>\n",
       "      <th>AMT_INCOME_TOTAL</th>\n",
       "      <th>AMT_CREDIT</th>\n",
       "      <th>AMT_ANNUITY</th>\n",
       "      <th>AMT_GOODS_PRICE</th>\n",
       "      <th>...</th>\n",
       "      <th>FLAG_DOCUMENT_19</th>\n",
       "      <th>FLAG_DOCUMENT_20</th>\n",
       "      <th>FLAG_DOCUMENT_21</th>\n",
       "      <th>AMT_REQ_CREDIT_BUREAU_HOUR</th>\n",
       "      <th>AMT_REQ_CREDIT_BUREAU_DAY</th>\n",
       "      <th>AMT_REQ_CREDIT_BUREAU_WEEK</th>\n",
       "      <th>AMT_REQ_CREDIT_BUREAU_MON</th>\n",
       "      <th>AMT_REQ_CREDIT_BUREAU_QRT</th>\n",
       "      <th>AMT_REQ_CREDIT_BUREAU_YEAR</th>\n",
       "      <th>TARGET</th>\n",
       "    </tr>\n",
       "  </thead>\n",
       "  <tbody>\n",
       "    <tr>\n",
       "      <th>1</th>\n",
       "      <td>100003.0</td>\n",
       "      <td>0</td>\n",
       "      <td>0</td>\n",
       "      <td>0</td>\n",
       "      <td>0</td>\n",
       "      <td>0.0</td>\n",
       "      <td>270000.0</td>\n",
       "      <td>1293502.5</td>\n",
       "      <td>35698.5</td>\n",
       "      <td>1129500.0</td>\n",
       "      <td>...</td>\n",
       "      <td>0.0</td>\n",
       "      <td>0.0</td>\n",
       "      <td>0.0</td>\n",
       "      <td>0.0</td>\n",
       "      <td>0.0</td>\n",
       "      <td>0.0</td>\n",
       "      <td>0.000000</td>\n",
       "      <td>0.000000</td>\n",
       "      <td>0.000000</td>\n",
       "      <td>0</td>\n",
       "    </tr>\n",
       "    <tr>\n",
       "      <th>2</th>\n",
       "      <td>100004.0</td>\n",
       "      <td>1</td>\n",
       "      <td>1</td>\n",
       "      <td>1</td>\n",
       "      <td>1</td>\n",
       "      <td>0.0</td>\n",
       "      <td>67500.0</td>\n",
       "      <td>135000.0</td>\n",
       "      <td>6750.0</td>\n",
       "      <td>135000.0</td>\n",
       "      <td>...</td>\n",
       "      <td>0.0</td>\n",
       "      <td>0.0</td>\n",
       "      <td>0.0</td>\n",
       "      <td>0.0</td>\n",
       "      <td>0.0</td>\n",
       "      <td>0.0</td>\n",
       "      <td>0.000000</td>\n",
       "      <td>0.000000</td>\n",
       "      <td>0.000000</td>\n",
       "      <td>0</td>\n",
       "    </tr>\n",
       "    <tr>\n",
       "      <th>3</th>\n",
       "      <td>100006.0</td>\n",
       "      <td>0</td>\n",
       "      <td>0</td>\n",
       "      <td>0</td>\n",
       "      <td>1</td>\n",
       "      <td>0.0</td>\n",
       "      <td>135000.0</td>\n",
       "      <td>312682.5</td>\n",
       "      <td>29686.5</td>\n",
       "      <td>297000.0</td>\n",
       "      <td>...</td>\n",
       "      <td>0.0</td>\n",
       "      <td>0.0</td>\n",
       "      <td>0.0</td>\n",
       "      <td>0.0</td>\n",
       "      <td>0.0</td>\n",
       "      <td>0.0</td>\n",
       "      <td>0.186701</td>\n",
       "      <td>0.236791</td>\n",
       "      <td>1.832056</td>\n",
       "      <td>0</td>\n",
       "    </tr>\n",
       "    <tr>\n",
       "      <th>5</th>\n",
       "      <td>100008.0</td>\n",
       "      <td>0</td>\n",
       "      <td>1</td>\n",
       "      <td>0</td>\n",
       "      <td>1</td>\n",
       "      <td>0.0</td>\n",
       "      <td>99000.0</td>\n",
       "      <td>490495.5</td>\n",
       "      <td>27517.5</td>\n",
       "      <td>454500.0</td>\n",
       "      <td>...</td>\n",
       "      <td>0.0</td>\n",
       "      <td>0.0</td>\n",
       "      <td>0.0</td>\n",
       "      <td>0.0</td>\n",
       "      <td>0.0</td>\n",
       "      <td>0.0</td>\n",
       "      <td>0.000000</td>\n",
       "      <td>1.000000</td>\n",
       "      <td>1.000000</td>\n",
       "      <td>0</td>\n",
       "    </tr>\n",
       "    <tr>\n",
       "      <th>7</th>\n",
       "      <td>100010.0</td>\n",
       "      <td>0</td>\n",
       "      <td>1</td>\n",
       "      <td>1</td>\n",
       "      <td>1</td>\n",
       "      <td>0.0</td>\n",
       "      <td>360000.0</td>\n",
       "      <td>1530000.0</td>\n",
       "      <td>42075.0</td>\n",
       "      <td>1530000.0</td>\n",
       "      <td>...</td>\n",
       "      <td>0.0</td>\n",
       "      <td>0.0</td>\n",
       "      <td>0.0</td>\n",
       "      <td>0.0</td>\n",
       "      <td>0.0</td>\n",
       "      <td>0.0</td>\n",
       "      <td>0.000000</td>\n",
       "      <td>0.000000</td>\n",
       "      <td>0.000000</td>\n",
       "      <td>0</td>\n",
       "    </tr>\n",
       "  </tbody>\n",
       "</table>\n",
       "<p>5 rows × 81 columns</p>\n",
       "</div>"
      ],
      "text/plain": [
       "   SK_ID_CURR  NAME_CONTRACT_TYPE  CODE_GENDER  FLAG_OWN_CAR  FLAG_OWN_REALTY  \\\n",
       "1    100003.0                   0            0             0                0   \n",
       "2    100004.0                   1            1             1                1   \n",
       "3    100006.0                   0            0             0                1   \n",
       "5    100008.0                   0            1             0                1   \n",
       "7    100010.0                   0            1             1                1   \n",
       "\n",
       "   CNT_CHILDREN  AMT_INCOME_TOTAL  AMT_CREDIT  AMT_ANNUITY  AMT_GOODS_PRICE  \\\n",
       "1           0.0          270000.0   1293502.5      35698.5        1129500.0   \n",
       "2           0.0           67500.0    135000.0       6750.0         135000.0   \n",
       "3           0.0          135000.0    312682.5      29686.5         297000.0   \n",
       "5           0.0           99000.0    490495.5      27517.5         454500.0   \n",
       "7           0.0          360000.0   1530000.0      42075.0        1530000.0   \n",
       "\n",
       "   ...  FLAG_DOCUMENT_19  FLAG_DOCUMENT_20  FLAG_DOCUMENT_21  \\\n",
       "1  ...               0.0               0.0               0.0   \n",
       "2  ...               0.0               0.0               0.0   \n",
       "3  ...               0.0               0.0               0.0   \n",
       "5  ...               0.0               0.0               0.0   \n",
       "7  ...               0.0               0.0               0.0   \n",
       "\n",
       "   AMT_REQ_CREDIT_BUREAU_HOUR  AMT_REQ_CREDIT_BUREAU_DAY  \\\n",
       "1                         0.0                        0.0   \n",
       "2                         0.0                        0.0   \n",
       "3                         0.0                        0.0   \n",
       "5                         0.0                        0.0   \n",
       "7                         0.0                        0.0   \n",
       "\n",
       "   AMT_REQ_CREDIT_BUREAU_WEEK  AMT_REQ_CREDIT_BUREAU_MON  \\\n",
       "1                         0.0                   0.000000   \n",
       "2                         0.0                   0.000000   \n",
       "3                         0.0                   0.186701   \n",
       "5                         0.0                   0.000000   \n",
       "7                         0.0                   0.000000   \n",
       "\n",
       "   AMT_REQ_CREDIT_BUREAU_QRT  AMT_REQ_CREDIT_BUREAU_YEAR  TARGET  \n",
       "1                   0.000000                    0.000000       0  \n",
       "2                   0.000000                    0.000000       0  \n",
       "3                   0.236791                    1.832056       0  \n",
       "5                   1.000000                    1.000000       0  \n",
       "7                   0.000000                    0.000000       0  \n",
       "\n",
       "[5 rows x 81 columns]"
      ]
     },
     "execution_count": 9,
     "metadata": {},
     "output_type": "execute_result"
    }
   ],
   "source": [
    "working_df = clean_all(X, y, 50)\n",
    "working_df.head(5)"
   ]
  },
  {
   "cell_type": "code",
   "execution_count": 10,
   "metadata": {},
   "outputs": [
    {
     "name": "stdout",
     "output_type": "stream",
     "text": [
      "Columns to drop with criteria of  50 %\n",
      "                   col_names  perc_missing\n",
      "6           AMT_DOWN_PAYMENT         53.64\n",
      "12         RATE_DOWN_PAYMENT         53.64\n",
      "13     RATE_INTEREST_PRIMARY         99.64\n",
      "14  RATE_INTEREST_PRIVILEGED         99.64\n"
     ]
    },
    {
     "data": {
      "text/html": [
       "<div>\n",
       "<style scoped>\n",
       "    .dataframe tbody tr th:only-of-type {\n",
       "        vertical-align: middle;\n",
       "    }\n",
       "\n",
       "    .dataframe tbody tr th {\n",
       "        vertical-align: top;\n",
       "    }\n",
       "\n",
       "    .dataframe thead th {\n",
       "        text-align: right;\n",
       "    }\n",
       "</style>\n",
       "<table border=\"1\" class=\"dataframe\">\n",
       "  <thead>\n",
       "    <tr style=\"text-align: right;\">\n",
       "      <th></th>\n",
       "      <th>SK_ID_PREV</th>\n",
       "      <th>SK_ID_CURR</th>\n",
       "      <th>NAME_CONTRACT_TYPE</th>\n",
       "      <th>AMT_ANNUITY</th>\n",
       "      <th>AMT_APPLICATION</th>\n",
       "      <th>AMT_CREDIT</th>\n",
       "      <th>AMT_GOODS_PRICE</th>\n",
       "      <th>WEEKDAY_APPR_PROCESS_START</th>\n",
       "      <th>HOUR_APPR_PROCESS_START</th>\n",
       "      <th>FLAG_LAST_APPL_PER_CONTRACT</th>\n",
       "      <th>...</th>\n",
       "      <th>CNT_PAYMENT</th>\n",
       "      <th>NAME_YIELD_GROUP</th>\n",
       "      <th>PRODUCT_COMBINATION</th>\n",
       "      <th>DAYS_FIRST_DRAWING</th>\n",
       "      <th>DAYS_FIRST_DUE</th>\n",
       "      <th>DAYS_LAST_DUE_1ST_VERSION</th>\n",
       "      <th>DAYS_LAST_DUE</th>\n",
       "      <th>DAYS_TERMINATION</th>\n",
       "      <th>NFLAG_INSURED_ON_APPROVAL</th>\n",
       "      <th>TARGET</th>\n",
       "    </tr>\n",
       "  </thead>\n",
       "  <tbody>\n",
       "    <tr>\n",
       "      <th>0</th>\n",
       "      <td>2030495.0</td>\n",
       "      <td>271877.0</td>\n",
       "      <td>1</td>\n",
       "      <td>1730.430</td>\n",
       "      <td>17145.0</td>\n",
       "      <td>17145.0</td>\n",
       "      <td>17145.0</td>\n",
       "      <td>2</td>\n",
       "      <td>15.0</td>\n",
       "      <td>1</td>\n",
       "      <td>...</td>\n",
       "      <td>12.0</td>\n",
       "      <td>4</td>\n",
       "      <td>13</td>\n",
       "      <td>365243.000000</td>\n",
       "      <td>-42.00000</td>\n",
       "      <td>300.00000</td>\n",
       "      <td>-42.000000</td>\n",
       "      <td>-37.000000</td>\n",
       "      <td>0.00000</td>\n",
       "      <td>1</td>\n",
       "    </tr>\n",
       "    <tr>\n",
       "      <th>1</th>\n",
       "      <td>2802425.0</td>\n",
       "      <td>108129.0</td>\n",
       "      <td>0</td>\n",
       "      <td>25188.615</td>\n",
       "      <td>607500.0</td>\n",
       "      <td>679671.0</td>\n",
       "      <td>607500.0</td>\n",
       "      <td>4</td>\n",
       "      <td>11.0</td>\n",
       "      <td>1</td>\n",
       "      <td>...</td>\n",
       "      <td>36.0</td>\n",
       "      <td>2</td>\n",
       "      <td>7</td>\n",
       "      <td>365243.000000</td>\n",
       "      <td>-134.00000</td>\n",
       "      <td>916.00000</td>\n",
       "      <td>365243.000000</td>\n",
       "      <td>365243.000000</td>\n",
       "      <td>1.00000</td>\n",
       "      <td>1</td>\n",
       "    </tr>\n",
       "    <tr>\n",
       "      <th>2</th>\n",
       "      <td>2523466.0</td>\n",
       "      <td>122040.0</td>\n",
       "      <td>0</td>\n",
       "      <td>15060.735</td>\n",
       "      <td>112500.0</td>\n",
       "      <td>136444.5</td>\n",
       "      <td>112500.0</td>\n",
       "      <td>5</td>\n",
       "      <td>11.0</td>\n",
       "      <td>1</td>\n",
       "      <td>...</td>\n",
       "      <td>12.0</td>\n",
       "      <td>1</td>\n",
       "      <td>6</td>\n",
       "      <td>365243.000000</td>\n",
       "      <td>-271.00000</td>\n",
       "      <td>59.00000</td>\n",
       "      <td>365243.000000</td>\n",
       "      <td>365243.000000</td>\n",
       "      <td>1.00000</td>\n",
       "      <td>1</td>\n",
       "    </tr>\n",
       "    <tr>\n",
       "      <th>3</th>\n",
       "      <td>2819243.0</td>\n",
       "      <td>176158.0</td>\n",
       "      <td>0</td>\n",
       "      <td>47041.335</td>\n",
       "      <td>450000.0</td>\n",
       "      <td>470790.0</td>\n",
       "      <td>450000.0</td>\n",
       "      <td>1</td>\n",
       "      <td>7.0</td>\n",
       "      <td>1</td>\n",
       "      <td>...</td>\n",
       "      <td>12.0</td>\n",
       "      <td>4</td>\n",
       "      <td>8</td>\n",
       "      <td>365243.000000</td>\n",
       "      <td>-482.00000</td>\n",
       "      <td>-152.00000</td>\n",
       "      <td>-182.000000</td>\n",
       "      <td>-177.000000</td>\n",
       "      <td>1.00000</td>\n",
       "      <td>1</td>\n",
       "    </tr>\n",
       "    <tr>\n",
       "      <th>4</th>\n",
       "      <td>1784265.0</td>\n",
       "      <td>202054.0</td>\n",
       "      <td>0</td>\n",
       "      <td>31924.395</td>\n",
       "      <td>337500.0</td>\n",
       "      <td>404055.0</td>\n",
       "      <td>337500.0</td>\n",
       "      <td>4</td>\n",
       "      <td>9.0</td>\n",
       "      <td>1</td>\n",
       "      <td>...</td>\n",
       "      <td>24.0</td>\n",
       "      <td>1</td>\n",
       "      <td>3</td>\n",
       "      <td>365240.849904</td>\n",
       "      <td>-1134.84752</td>\n",
       "      <td>-740.11996</td>\n",
       "      <td>49747.826848</td>\n",
       "      <td>51221.799633</td>\n",
       "      <td>0.35571</td>\n",
       "      <td>0</td>\n",
       "    </tr>\n",
       "  </tbody>\n",
       "</table>\n",
       "<p>5 rows × 33 columns</p>\n",
       "</div>"
      ],
      "text/plain": [
       "   SK_ID_PREV  SK_ID_CURR  NAME_CONTRACT_TYPE  AMT_ANNUITY  AMT_APPLICATION  \\\n",
       "0   2030495.0    271877.0                   1     1730.430          17145.0   \n",
       "1   2802425.0    108129.0                   0    25188.615         607500.0   \n",
       "2   2523466.0    122040.0                   0    15060.735         112500.0   \n",
       "3   2819243.0    176158.0                   0    47041.335         450000.0   \n",
       "4   1784265.0    202054.0                   0    31924.395         337500.0   \n",
       "\n",
       "   AMT_CREDIT  AMT_GOODS_PRICE  WEEKDAY_APPR_PROCESS_START  \\\n",
       "0     17145.0          17145.0                           2   \n",
       "1    679671.0         607500.0                           4   \n",
       "2    136444.5         112500.0                           5   \n",
       "3    470790.0         450000.0                           1   \n",
       "4    404055.0         337500.0                           4   \n",
       "\n",
       "   HOUR_APPR_PROCESS_START  FLAG_LAST_APPL_PER_CONTRACT  ...  CNT_PAYMENT  \\\n",
       "0                     15.0                            1  ...         12.0   \n",
       "1                     11.0                            1  ...         36.0   \n",
       "2                     11.0                            1  ...         12.0   \n",
       "3                      7.0                            1  ...         12.0   \n",
       "4                      9.0                            1  ...         24.0   \n",
       "\n",
       "   NAME_YIELD_GROUP  PRODUCT_COMBINATION  DAYS_FIRST_DRAWING  DAYS_FIRST_DUE  \\\n",
       "0                 4                   13       365243.000000       -42.00000   \n",
       "1                 2                    7       365243.000000      -134.00000   \n",
       "2                 1                    6       365243.000000      -271.00000   \n",
       "3                 4                    8       365243.000000      -482.00000   \n",
       "4                 1                    3       365240.849904     -1134.84752   \n",
       "\n",
       "   DAYS_LAST_DUE_1ST_VERSION  DAYS_LAST_DUE  DAYS_TERMINATION  \\\n",
       "0                  300.00000     -42.000000        -37.000000   \n",
       "1                  916.00000  365243.000000     365243.000000   \n",
       "2                   59.00000  365243.000000     365243.000000   \n",
       "3                 -152.00000    -182.000000       -177.000000   \n",
       "4                 -740.11996   49747.826848      51221.799633   \n",
       "\n",
       "   NFLAG_INSURED_ON_APPROVAL  TARGET  \n",
       "0                    0.00000       1  \n",
       "1                    1.00000       1  \n",
       "2                    1.00000       1  \n",
       "3                    1.00000       1  \n",
       "4                    0.35571       0  \n",
       "\n",
       "[5 rows x 33 columns]"
      ]
     },
     "execution_count": 10,
     "metadata": {},
     "output_type": "execute_result"
    }
   ],
   "source": [
    "working_df_2 = clean_all(X_2, y_2, 50)\n",
    "working_df_2.head(5)"
   ]
  },
  {
   "cell_type": "code",
   "execution_count": 11,
   "metadata": {},
   "outputs": [],
   "source": [
    "# Split out new data into X and y for training purposes - application CSV\n",
    "X = working_df.drop(columns=['TARGET'])\n",
    "y = working_df['TARGET']\n",
    "\n",
    "# Split data further into training and test sets\n",
    "X_train, X_test, y_train, y_test = train_test_split(X, y, test_size=0.2, random_state=42)"
   ]
  },
  {
   "cell_type": "code",
   "execution_count": 12,
   "metadata": {},
   "outputs": [],
   "source": [
    "# Split out new data into X and y for training purposes - previous application CSV\n",
    "X_2 = working_df_2.drop(columns=['TARGET'])\n",
    "y_2 = working_df_2['TARGET']\n",
    "\n",
    "# Split data further into training and test sets\n",
    "X_train_2, X_test_2, y_train_2, y_test_2 = train_test_split(X_2, y_2, test_size=0.2, random_state=42)"
   ]
  },
  {
   "attachments": {},
   "cell_type": "markdown",
   "metadata": {},
   "source": [
    "#### Data Modeling\n",
    "\n",
    "We have successfully cleaned our data to a workable standard so now we can attempt to start creating models"
   ]
  },
  {
   "attachments": {},
   "cell_type": "markdown",
   "metadata": {},
   "source": [
    "The first model we will work with will be the Random Forest Classifier. This will give us good information about the top data features as well as and idea if our data is sufficient to train a somewhat accurate model. We will first do this by testing the model over a number of estimators to see what would work the best for our model."
   ]
  },
  {
   "attachments": {},
   "cell_type": "markdown",
   "metadata": {},
   "source": [
    "Now we are going to create some helper functions that will allow us to view the results more readily."
   ]
  },
  {
   "cell_type": "code",
   "execution_count": 13,
   "metadata": {},
   "outputs": [],
   "source": [
    "# Creating function that handles the fitting na predictions\n",
    "def model_fit_pred(cls, X_train, X_test, y_train):\n",
    "    # Fitting the model first before predictions\n",
    "    cls = cls.fit(X_train,y_train)\n",
    "\n",
    "    # Predicting the response from the dataset\n",
    "    y_hat = cls.predict(X_train)\n",
    "    y_pred = cls.predict(X_test)\n",
    "\n",
    "    # Return the classifier, y_head, and then the y_pred\n",
    "    return cls, y_hat, y_pred\n",
    "\n",
    "\n",
    "# Outputting the train/test accuracy and F1 Score\n",
    "def model_results(y_train, y_test, y_hat, y_pred):\n",
    "    # Finding the F1 score\n",
    "    f1 = metrics.f1_score(y_pred, y_test, average='weighted')\n",
    "\n",
    "    # Display the Train/Test Accuracy and then the F1 score\n",
    "    print(\"Train Accuracy; \", metrics.accuracy_score(y_train, y_hat))\n",
    "    print(\"Test Accuracy: \", metrics.accuracy_score(y_test,y_pred))\n",
    "    print(\"F1 Score: \", f1)\n",
    "\n",
    "\n",
    "# Creating a Confusion Matrix for the Models\n",
    "def model_CM(y_test, y_pred, title_name):\n",
    "    # Creating the Confusion Matrix\n",
    "    confusion_matrix = metrics.confusion_matrix(y_test,y_pred)\n",
    "    \n",
    "    # Plotting the Confusion Matrix\n",
    "    metrics.ConfusionMatrixDisplay(confusion_matrix=confusion_matrix).plot()\n",
    "\n",
    "    # Adding the the title of the plot\n",
    "    plt.title(title_name)\n",
    "    plt.show()\n",
    "\n",
    "def features_plot(cls, X):\n",
    "    # Grabbing the top features\n",
    "    importance = cls.feature_importances_\n",
    "    top_indices = np.argsort(importance)\n",
    "\n",
    "    # Creating our X and y axis for plotting\n",
    "    x_axis = importance[top_indices]\n",
    "    y_axis = X.columns[top_indices]\n",
    "\n",
    "    # Number of features we are looking for\n",
    "    value = 15\n",
    "\n",
    "    # ordering it from greatest to least importance\n",
    "    x_axis = x_axis[-value:]\n",
    "    y_axis = y_axis[-value:]\n",
    "\n",
    "    # Plot\n",
    "    plt.figure(1)\n",
    "    plt.title('Feature Importances(Top ' + str(value) + ' loaded)')\n",
    "    plt.barh(range(value), x_axis, color='b', align='center')\n",
    "    plt.yticks(range(value), y_axis)\n",
    "    plt.xlabel('Relative Importance')\n",
    "    plt.show()\n",
    "\n",
    "    return value, y_axis\n",
    "\n",
    "def setXy(value, y_axis, df):\n",
    "    X = df[y_axis[-value:]] # Features by dropping the target column\n",
    "    y = df.TARGET # Target variable \n",
    "\n",
    "    return X, y"
   ]
  },
  {
   "attachments": {},
   "cell_type": "markdown",
   "metadata": {},
   "source": [
    "Finding N_Estimators for Random Forest"
   ]
  },
  {
   "cell_type": "code",
   "execution_count": 14,
   "metadata": {},
   "outputs": [],
   "source": [
    "# Create Model\n",
    "# model = RandomForestClassifier()\n",
    "\n",
    "# # Try different numbers of n_estimators - 100 to 600\n",
    "# estimators = np.arange(100, 600, 50)\n",
    "# scores = []\n",
    "# for n in estimators:\n",
    "#     model.set_params(n_estimators=n)\n",
    "#     model.fit(X_train, y_train)\n",
    "#     scores.append(model.score(X_test, y_test))\n",
    "# print(scores)   "
   ]
  },
  {
   "cell_type": "code",
   "execution_count": 15,
   "metadata": {},
   "outputs": [],
   "source": [
    "# # This graph will let us see the effect of the estimators\n",
    "# plt.title(\"Effect of n_estimators\")\n",
    "# plt.xlabel(\"n_estimator\")\n",
    "# plt.ylabel(\"score\")\n",
    "# plt.plot(estimators, scores)"
   ]
  },
  {
   "cell_type": "code",
   "execution_count": 16,
   "metadata": {},
   "outputs": [],
   "source": [
    "# Create Model\n",
    "rf = RandomForestClassifier(n_estimators=100, n_jobs=-1, random_state=42)\n",
    "rf, y_hat, y_pred = model_fit_pred(rf, X_train, X_test, y_train)"
   ]
  },
  {
   "cell_type": "code",
   "execution_count": 17,
   "metadata": {},
   "outputs": [
    {
     "name": "stdout",
     "output_type": "stream",
     "text": [
      "Train Accuracy;  0.9999704001894388\n",
      "Test Accuracy:  0.917833357999112\n",
      "F1 Score:  0.9569275765990854\n"
     ]
    },
    {
     "data": {
      "image/png": "[encoded data removed]",
      "text/plain": [
       "<Figure size 432x288 with 2 Axes>"
      ]
     },
     "metadata": {
      "needs_background": "light"
     },
     "output_type": "display_data"
    }
   ],
   "source": [
    "# Print out a nicely formatted results table\n",
    "model_results(y_train, y_test, y_hat, y_pred)\n",
    "\n",
    "# Create the confusion table\n",
    "model_CM(y_test, y_pred,\"Initial Random Forest Classifier\")"
   ]
  },
  {
   "cell_type": "code",
   "execution_count": 18,
   "metadata": {},
   "outputs": [
    {
     "data": {
      "image/png": "[encoded data removed]",
      "text/plain": [
       "<Figure size 432x288 with 1 Axes>"
      ]
     },
     "metadata": {
      "needs_background": "light"
     },
     "output_type": "display_data"
    }
   ],
   "source": [
    "# Plot the features\n",
    "value, y_axis = features_plot(rf, X)\n",
    "\n",
    "# Set up x and y parameters\n",
    "X,y = setXy(value, y_axis, working_df)"
   ]
  },
  {
   "attachments": {},
   "cell_type": "markdown",
   "metadata": {},
   "source": [
    "Part 2: Of Random Forest Classification"
   ]
  },
  {
   "cell_type": "code",
   "execution_count": 19,
   "metadata": {},
   "outputs": [],
   "source": [
    "# Training and Testing with the top features\n",
    "X_train, X_test, y_train, y_test = train_test_split(X, y, test_size=0.2, random_state=42)"
   ]
  },
  {
   "cell_type": "code",
   "execution_count": 20,
   "metadata": {},
   "outputs": [],
   "source": [
    "# Create the final model\n",
    "rf_final = RandomForestClassifier(n_estimators=100, n_jobs=-1, random_state=42)\n",
    "rf_final, y_hat, y_pred = model_fit_pred(rf_final, X_train, X_test, y_train) "
   ]
  },
  {
   "cell_type": "code",
   "execution_count": 21,
   "metadata": {},
   "outputs": [
    {
     "name": "stdout",
     "output_type": "stream",
     "text": [
      "Train Accuracy;  0.9999630002367985\n",
      "Test Accuracy:  0.9175965665236051\n",
      "F1 Score:  0.9558313887639769\n"
     ]
    },
    {
     "data": {
      "image/png": "[encoded data removed]",
      "text/plain": [
       "<Figure size 432x288 with 2 Axes>"
      ]
     },
     "metadata": {
      "needs_background": "light"
     },
     "output_type": "display_data"
    }
   ],
   "source": [
    "# Print out a nicely formatted results table\n",
    "model_results(y_train, y_test, y_hat, y_pred)\n",
    "\n",
    "# Create the confusion table\n",
    "model_CM(y_test, y_pred,\"Final Model: Random Forest Classifier\")"
   ]
  },
  {
   "cell_type": "code",
   "execution_count": 22,
   "metadata": {},
   "outputs": [
    {
     "data": {
      "image/png": "[encoded data removed]",
      "text/plain": [
       "<Figure size 432x288 with 1 Axes>"
      ]
     },
     "metadata": {
      "needs_background": "light"
     },
     "output_type": "display_data"
    }
   ],
   "source": [
    "# Plot the features\n",
    "value, y_axis = features_plot(rf_final, X)\n",
    "\n",
    "# Set up x and y parameters\n",
    "X,y = setXy(value, y_axis, working_df)"
   ]
  },
  {
   "attachments": {},
   "cell_type": "markdown",
   "metadata": {},
   "source": [
    "##### Gradient Boosting"
   ]
  },
  {
   "cell_type": "code",
   "execution_count": 23,
   "metadata": {},
   "outputs": [],
   "source": [
    "# # Define the parameter grid for grid search\n",
    "# param_grid = {'max_depth': [1,2,3,4,5]}\n",
    "\n",
    "# # Create the gradient boosting classifier\n",
    "# gbc = GradientBoostingClassifier()\n",
    "\n",
    "# # Perform grid search\n",
    "# grid_search = GridSearchCV(gbc, param_grid=param_grid, cv=5)\n",
    "# grid_search.fit(X_train, y_train)\n",
    "\n",
    "# # Get the best parameters and score\n",
    "# best_params = grid_search.best_params_\n",
    "# best_score = grid_search.best_score_\n",
    "\n",
    "# print(\"Best Parameters:\", best_params)\n",
    "# print(\"Best Score:\", best_score)"
   ]
  },
  {
   "cell_type": "code",
   "execution_count": 24,
   "metadata": {},
   "outputs": [],
   "source": [
    "# Recreating the Training and Testing Set with the New Features\n",
    "X_train, X_test, y_train, y_test = train_test_split(X, y, test_size=0.2, random_state=42)"
   ]
  },
  {
   "cell_type": "code",
   "execution_count": 25,
   "metadata": {},
   "outputs": [],
   "source": [
    "# Create the Final GBC model\n",
    "gbc_final = GradientBoostingClassifier(max_depth=3)  \n",
    "gbc_final, y_hat, y_pred = model_fit_pred(gbc_final, X_train, X_test, y_train) "
   ]
  },
  {
   "cell_type": "code",
   "execution_count": 26,
   "metadata": {},
   "outputs": [
    {
     "name": "stdout",
     "output_type": "stream",
     "text": [
      "Train Accuracy;  0.918896519062278\n",
      "Test Accuracy:  0.9178925558679888\n",
      "F1 Score:  0.9547715688559415\n"
     ]
    },
    {
     "data": {
      "image/png": "[encoded data removed]",
      "text/plain": [
       "<Figure size 432x288 with 2 Axes>"
      ]
     },
     "metadata": {
      "needs_background": "light"
     },
     "output_type": "display_data"
    }
   ],
   "source": [
    "# Print out a nicely formatted results table\n",
    "model_results(y_train, y_test, y_hat, y_pred)\n",
    "\n",
    "# Create the confusion table\n",
    "model_CM(y_test, y_pred,\"Final Model: Gradient Boosting Classifier\")"
   ]
  },
  {
   "attachments": {},
   "cell_type": "markdown",
   "metadata": {},
   "source": [
    "##### Naive Bayesian"
   ]
  },
  {
   "attachments": {},
   "cell_type": "markdown",
   "metadata": {},
   "source": [
    "We need to run RF again to find the best features for Naive Bayes"
   ]
  },
  {
   "cell_type": "code",
   "execution_count": 27,
   "metadata": {},
   "outputs": [],
   "source": [
    "# Create the Naive Bayesian model\n",
    "rf = RandomForestClassifier(n_estimators=200, n_jobs=-1, random_state=42)\n",
    "rf, y_hat, y_pred = model_fit_pred(rf, X_train_2, X_test_2, y_train_2) "
   ]
  },
  {
   "cell_type": "code",
   "execution_count": 28,
   "metadata": {},
   "outputs": [
    {
     "name": "stdout",
     "output_type": "stream",
     "text": [
      "Train Accuracy;  1.0\n",
      "Test Accuracy:  0.9983445400478244\n",
      "F1 Score:  0.9983447112970977\n"
     ]
    },
    {
     "data": {
      "image/png": "[encoded data removed]",
      "text/plain": [
       "<Figure size 432x288 with 2 Axes>"
      ]
     },
     "metadata": {
      "needs_background": "light"
     },
     "output_type": "display_data"
    }
   ],
   "source": [
    "# Print out a nicely formatted results table\n",
    "model_results(y_train_2, y_test_2, y_hat, y_pred)\n",
    "\n",
    "# Create the confusion table\n",
    "model_CM(y_test_2, y_pred,\"Final Model: Random Forest Classifier\")"
   ]
  },
  {
   "cell_type": "code",
   "execution_count": 29,
   "metadata": {},
   "outputs": [
    {
     "data": {
      "image/png": "[encoded data removed]",
      "text/plain": [
       "<Figure size 432x288 with 1 Axes>"
      ]
     },
     "metadata": {
      "needs_background": "light"
     },
     "output_type": "display_data"
    }
   ],
   "source": [
    "# Plot the features\n",
    "value, y_axis = features_plot(rf,X_2)"
   ]
  },
  {
   "cell_type": "code",
   "execution_count": 30,
   "metadata": {},
   "outputs": [],
   "source": [
    "# Select and show number of features\n",
    "select_features = 5\n",
    "features = y_axis[-select_features:]"
   ]
  },
  {
   "cell_type": "code",
   "execution_count": 31,
   "metadata": {},
   "outputs": [],
   "source": [
    "# Create Bayesian Classifier\n",
    "nb = GaussianNB() # Create Naive Bayes classifier object\n",
    "nb, y_hat, y_pred = model_fit_pred(nb, X_train_2[features], X_test_2[features], y_train_2)"
   ]
  },
  {
   "cell_type": "code",
   "execution_count": 32,
   "metadata": {},
   "outputs": [
    {
     "name": "stdout",
     "output_type": "stream",
     "text": [
      "Train Accuracy;  0.9590314845030027\n",
      "Test Accuracy:  0.959529794872843\n",
      "F1 Score:  0.9591791295449986\n"
     ]
    },
    {
     "data": {
      "image/png": "[encoded data removed]",
      "text/plain": [
       "<Figure size 432x288 with 2 Axes>"
      ]
     },
     "metadata": {
      "needs_background": "light"
     },
     "output_type": "display_data"
    }
   ],
   "source": [
    "# Print out a nicely formatted results table\n",
    "model_results(y_train_2, y_test_2, y_hat, y_pred)\n",
    "\n",
    "# Create the confusion table\n",
    "model_CM(y_test_2, y_pred,\"Naive Bayesian Classifier\")"
   ]
  },
  {
   "attachments": {},
   "cell_type": "markdown",
   "metadata": {},
   "source": [
    "##### Bayesian Results + Final Testing"
   ]
  },
  {
   "cell_type": "code",
   "execution_count": 33,
   "metadata": {},
   "outputs": [],
   "source": [
    "# We are going to create some helper functions to simplify the work down\n",
    "\n",
    "def final_test(df, features):\n",
    "    # First, remove the missing values\n",
    "    df = df.dropna()\n",
    "\n",
    "    # Next, set up our X and y parameters\n",
    "    X = df[features]\n",
    "    y = df.TARGET\n",
    "\n",
    "    # After, split into training and test set\n",
    "    X_train, X_test, y_train, y_test = train_test_split(X, y, test_size=0.2, random_state=1) # 70% training and 30% test\n",
    "\n",
    "    gbc_wNB = GradientBoostingClassifier(max_depth=3)  \n",
    "    gbc_wNB, y_hat, y_pred = model_fit_pred(gbc_wNB, X_train, X_test, y_train) \n",
    "\n",
    "    # Print out a nicely formatted results table\n",
    "    model_results(y_train, y_test, y_hat, y_pred)\n",
    "\n",
    "    # Create the confusion table\n",
    "    model_CM(y_test, y_pred,\"Final Model: Gradient Boosting Classifier\")"
   ]
  },
  {
   "cell_type": "code",
   "execution_count": 34,
   "metadata": {},
   "outputs": [],
   "source": [
    "# Combining results with the application_train data frame\n",
    "\n",
    "# Create a copy first and create the label columns in both tables for y_hat and y_pred\n",
    "table1 = X_train_2.copy()\n",
    "table1['Label'] = y_hat\n",
    "table2 = X_test_2.copy()\n",
    "table2['Label'] = y_pred\n",
    "\n",
    "# Create the column labels as well\n",
    "col_labels = ['SK_ID_CURR', 'Label']"
   ]
  },
  {
   "cell_type": "code",
   "execution_count": 35,
   "metadata": {},
   "outputs": [
    {
     "name": "stdout",
     "output_type": "stream",
     "text": [
      "Columns to drop with criteria of  50 %\n",
      "                   col_names  perc_missing\n",
      "19               OWN_CAR_AGE         66.53\n",
      "38              EXT_SOURCE_1         56.51\n",
      "41            APARTMENTS_AVG         50.51\n",
      "42          BASEMENTAREA_AVG         58.47\n",
      "44           YEARS_BUILD_AVG         66.46\n",
      "45            COMMONAREA_AVG         69.83\n",
      "46             ELEVATORS_AVG         53.17\n",
      "47             ENTRANCES_AVG         50.14\n",
      "49             FLOORSMIN_AVG         67.82\n",
      "50              LANDAREA_AVG         59.35\n",
      "51      LIVINGAPARTMENTS_AVG         68.36\n",
      "53   NONLIVINGAPARTMENTS_AVG         69.43\n",
      "54         NONLIVINGAREA_AVG         55.00\n",
      "55           APARTMENTS_MODE         50.51\n",
      "56         BASEMENTAREA_MODE         58.47\n",
      "58          YEARS_BUILD_MODE         66.46\n",
      "59           COMMONAREA_MODE         69.83\n",
      "60            ELEVATORS_MODE         53.17\n",
      "61            ENTRANCES_MODE         50.14\n",
      "63            FLOORSMIN_MODE         67.82\n",
      "64             LANDAREA_MODE         59.35\n",
      "65     LIVINGAPARTMENTS_MODE         68.36\n",
      "67  NONLIVINGAPARTMENTS_MODE         69.43\n",
      "68        NONLIVINGAREA_MODE         55.00\n",
      "69           APARTMENTS_MEDI         50.51\n",
      "70         BASEMENTAREA_MEDI         58.47\n",
      "72          YEARS_BUILD_MEDI         66.46\n",
      "73           COMMONAREA_MEDI         69.83\n",
      "74            ELEVATORS_MEDI         53.17\n",
      "75            ENTRANCES_MEDI         50.14\n",
      "77            FLOORSMIN_MEDI         67.82\n",
      "78             LANDAREA_MEDI         59.35\n",
      "79     LIVINGAPARTMENTS_MEDI         68.36\n",
      "81  NONLIVINGAPARTMENTS_MEDI         69.43\n",
      "82        NONLIVINGAREA_MEDI         55.00\n",
      "83        FONDKAPREMONT_MODE         68.36\n",
      "86        WALLSMATERIAL_MODE         50.61\n"
     ]
    }
   ],
   "source": [
    "# Create the temporary data frame - first concat the two\n",
    "temp_dataFrame = pd.concat([table1,table2], axis = 0)\n",
    "\n",
    "# Then add on the column labels\n",
    "temp_dataFrame = temp_dataFrame[col_labels]\n",
    "\n",
    "# Now, merge everything into one big dataset\n",
    "final_dataframe = pd.merge(df_1, temp_dataFrame, on=\"SK_ID_CURR\")\n",
    "\n",
    "# Clean the dataframe\n",
    "X = final_dataframe.drop(columns=['TARGET', 'SK_ID_CURR'])\n",
    "y = final_dataframe['TARGET']\n",
    "final_dataframe = clean_all(X, y, 50)\n"
   ]
  },
  {
   "cell_type": "code",
   "execution_count": 36,
   "metadata": {},
   "outputs": [
    {
     "data": {
      "text/html": [
       "<div>\n",
       "<style scoped>\n",
       "    .dataframe tbody tr th:only-of-type {\n",
       "        vertical-align: middle;\n",
       "    }\n",
       "\n",
       "    .dataframe tbody tr th {\n",
       "        vertical-align: top;\n",
       "    }\n",
       "\n",
       "    .dataframe thead th {\n",
       "        text-align: right;\n",
       "    }\n",
       "</style>\n",
       "<table border=\"1\" class=\"dataframe\">\n",
       "  <thead>\n",
       "    <tr style=\"text-align: right;\">\n",
       "      <th></th>\n",
       "      <th>NAME_CONTRACT_TYPE</th>\n",
       "      <th>CODE_GENDER</th>\n",
       "      <th>FLAG_OWN_CAR</th>\n",
       "      <th>FLAG_OWN_REALTY</th>\n",
       "      <th>CNT_CHILDREN</th>\n",
       "      <th>AMT_INCOME_TOTAL</th>\n",
       "      <th>AMT_CREDIT</th>\n",
       "      <th>AMT_ANNUITY</th>\n",
       "      <th>AMT_GOODS_PRICE</th>\n",
       "      <th>NAME_TYPE_SUITE</th>\n",
       "      <th>...</th>\n",
       "      <th>FLAG_DOCUMENT_20</th>\n",
       "      <th>FLAG_DOCUMENT_21</th>\n",
       "      <th>AMT_REQ_CREDIT_BUREAU_HOUR</th>\n",
       "      <th>AMT_REQ_CREDIT_BUREAU_DAY</th>\n",
       "      <th>AMT_REQ_CREDIT_BUREAU_WEEK</th>\n",
       "      <th>AMT_REQ_CREDIT_BUREAU_MON</th>\n",
       "      <th>AMT_REQ_CREDIT_BUREAU_QRT</th>\n",
       "      <th>AMT_REQ_CREDIT_BUREAU_YEAR</th>\n",
       "      <th>Label</th>\n",
       "      <th>TARGET</th>\n",
       "    </tr>\n",
       "  </thead>\n",
       "  <tbody>\n",
       "    <tr>\n",
       "      <th>1</th>\n",
       "      <td>0</td>\n",
       "      <td>0</td>\n",
       "      <td>0</td>\n",
       "      <td>0</td>\n",
       "      <td>0.0</td>\n",
       "      <td>270000.0</td>\n",
       "      <td>1293502.5</td>\n",
       "      <td>35698.5</td>\n",
       "      <td>1129500.0</td>\n",
       "      <td>1</td>\n",
       "      <td>...</td>\n",
       "      <td>0.0</td>\n",
       "      <td>0.0</td>\n",
       "      <td>0.0</td>\n",
       "      <td>0.0</td>\n",
       "      <td>0.0</td>\n",
       "      <td>0.000000</td>\n",
       "      <td>0.000000</td>\n",
       "      <td>0.000000</td>\n",
       "      <td>1.0</td>\n",
       "      <td>0</td>\n",
       "    </tr>\n",
       "    <tr>\n",
       "      <th>2</th>\n",
       "      <td>1</td>\n",
       "      <td>1</td>\n",
       "      <td>1</td>\n",
       "      <td>1</td>\n",
       "      <td>0.0</td>\n",
       "      <td>67500.0</td>\n",
       "      <td>135000.0</td>\n",
       "      <td>6750.0</td>\n",
       "      <td>135000.0</td>\n",
       "      <td>6</td>\n",
       "      <td>...</td>\n",
       "      <td>0.0</td>\n",
       "      <td>0.0</td>\n",
       "      <td>0.0</td>\n",
       "      <td>0.0</td>\n",
       "      <td>0.0</td>\n",
       "      <td>0.000000</td>\n",
       "      <td>0.000000</td>\n",
       "      <td>0.000000</td>\n",
       "      <td>1.0</td>\n",
       "      <td>0</td>\n",
       "    </tr>\n",
       "    <tr>\n",
       "      <th>3</th>\n",
       "      <td>0</td>\n",
       "      <td>0</td>\n",
       "      <td>0</td>\n",
       "      <td>1</td>\n",
       "      <td>0.0</td>\n",
       "      <td>135000.0</td>\n",
       "      <td>312682.5</td>\n",
       "      <td>29686.5</td>\n",
       "      <td>297000.0</td>\n",
       "      <td>6</td>\n",
       "      <td>...</td>\n",
       "      <td>0.0</td>\n",
       "      <td>0.0</td>\n",
       "      <td>0.0</td>\n",
       "      <td>0.0</td>\n",
       "      <td>0.0</td>\n",
       "      <td>0.207691</td>\n",
       "      <td>0.306889</td>\n",
       "      <td>2.832907</td>\n",
       "      <td>0.0</td>\n",
       "      <td>0</td>\n",
       "    </tr>\n",
       "    <tr>\n",
       "      <th>4</th>\n",
       "      <td>0</td>\n",
       "      <td>0</td>\n",
       "      <td>0</td>\n",
       "      <td>1</td>\n",
       "      <td>0.0</td>\n",
       "      <td>135000.0</td>\n",
       "      <td>312682.5</td>\n",
       "      <td>29686.5</td>\n",
       "      <td>297000.0</td>\n",
       "      <td>6</td>\n",
       "      <td>...</td>\n",
       "      <td>0.0</td>\n",
       "      <td>0.0</td>\n",
       "      <td>0.0</td>\n",
       "      <td>0.0</td>\n",
       "      <td>0.0</td>\n",
       "      <td>0.207691</td>\n",
       "      <td>0.306889</td>\n",
       "      <td>2.832907</td>\n",
       "      <td>0.0</td>\n",
       "      <td>0</td>\n",
       "    </tr>\n",
       "    <tr>\n",
       "      <th>5</th>\n",
       "      <td>0</td>\n",
       "      <td>0</td>\n",
       "      <td>0</td>\n",
       "      <td>1</td>\n",
       "      <td>0.0</td>\n",
       "      <td>135000.0</td>\n",
       "      <td>312682.5</td>\n",
       "      <td>29686.5</td>\n",
       "      <td>297000.0</td>\n",
       "      <td>6</td>\n",
       "      <td>...</td>\n",
       "      <td>0.0</td>\n",
       "      <td>0.0</td>\n",
       "      <td>0.0</td>\n",
       "      <td>0.0</td>\n",
       "      <td>0.0</td>\n",
       "      <td>0.207691</td>\n",
       "      <td>0.306889</td>\n",
       "      <td>2.832907</td>\n",
       "      <td>0.0</td>\n",
       "      <td>0</td>\n",
       "    </tr>\n",
       "  </tbody>\n",
       "</table>\n",
       "<p>5 rows × 84 columns</p>\n",
       "</div>"
      ],
      "text/plain": [
       "   NAME_CONTRACT_TYPE  CODE_GENDER  FLAG_OWN_CAR  FLAG_OWN_REALTY  \\\n",
       "1                   0            0             0                0   \n",
       "2                   1            1             1                1   \n",
       "3                   0            0             0                1   \n",
       "4                   0            0             0                1   \n",
       "5                   0            0             0                1   \n",
       "\n",
       "   CNT_CHILDREN  AMT_INCOME_TOTAL  AMT_CREDIT  AMT_ANNUITY  AMT_GOODS_PRICE  \\\n",
       "1           0.0          270000.0   1293502.5      35698.5        1129500.0   \n",
       "2           0.0           67500.0    135000.0       6750.0         135000.0   \n",
       "3           0.0          135000.0    312682.5      29686.5         297000.0   \n",
       "4           0.0          135000.0    312682.5      29686.5         297000.0   \n",
       "5           0.0          135000.0    312682.5      29686.5         297000.0   \n",
       "\n",
       "   NAME_TYPE_SUITE  ...  FLAG_DOCUMENT_20  FLAG_DOCUMENT_21  \\\n",
       "1                1  ...               0.0               0.0   \n",
       "2                6  ...               0.0               0.0   \n",
       "3                6  ...               0.0               0.0   \n",
       "4                6  ...               0.0               0.0   \n",
       "5                6  ...               0.0               0.0   \n",
       "\n",
       "   AMT_REQ_CREDIT_BUREAU_HOUR  AMT_REQ_CREDIT_BUREAU_DAY  \\\n",
       "1                         0.0                        0.0   \n",
       "2                         0.0                        0.0   \n",
       "3                         0.0                        0.0   \n",
       "4                         0.0                        0.0   \n",
       "5                         0.0                        0.0   \n",
       "\n",
       "   AMT_REQ_CREDIT_BUREAU_WEEK  AMT_REQ_CREDIT_BUREAU_MON  \\\n",
       "1                         0.0                   0.000000   \n",
       "2                         0.0                   0.000000   \n",
       "3                         0.0                   0.207691   \n",
       "4                         0.0                   0.207691   \n",
       "5                         0.0                   0.207691   \n",
       "\n",
       "   AMT_REQ_CREDIT_BUREAU_QRT  AMT_REQ_CREDIT_BUREAU_YEAR  Label  TARGET  \n",
       "1                   0.000000                    0.000000    1.0       0  \n",
       "2                   0.000000                    0.000000    1.0       0  \n",
       "3                   0.306889                    2.832907    0.0       0  \n",
       "4                   0.306889                    2.832907    0.0       0  \n",
       "5                   0.306889                    2.832907    0.0       0  \n",
       "\n",
       "[5 rows x 84 columns]"
      ]
     },
     "execution_count": 36,
     "metadata": {},
     "output_type": "execute_result"
    }
   ],
   "source": [
    "final_dataframe.head()"
   ]
  },
  {
   "attachments": {},
   "cell_type": "markdown",
   "metadata": {},
   "source": [
    "First we are going to test with the original labels"
   ]
  },
  {
   "cell_type": "code",
   "execution_count": 37,
   "metadata": {},
   "outputs": [],
   "source": [
    "top_features = ['AMT_CREDIT','AMT_ANNUITY','DAYS_ID_PUBLISH','DAYS_BIRTH','DAYS_EMPLOYED',\n",
    "                'DAYS_LAST_PHONE_CHANGE', 'DAYS_REGISTRATION','EXT_SOURCE_2',\n",
    "                'EXT_SOURCE_3']"
   ]
  },
  {
   "cell_type": "code",
   "execution_count": 38,
   "metadata": {},
   "outputs": [
    {
     "name": "stdout",
     "output_type": "stream",
     "text": [
      "Train Accuracy;  0.9132698768197088\n",
      "Test Accuracy:  0.9145685077484377\n",
      "F1 Score:  0.9535247218606345\n"
     ]
    },
    {
     "data": {
      "image/png": "[encoded data removed]",
      "text/plain": [
       "<Figure size 432x288 with 2 Axes>"
      ]
     },
     "metadata": {
      "needs_background": "light"
     },
     "output_type": "display_data"
    }
   ],
   "source": [
    "# Testing without any labels seeing the before and after\n",
    "final_test(final_dataframe, top_features)"
   ]
  },
  {
   "cell_type": "code",
   "execution_count": 39,
   "metadata": {},
   "outputs": [
    {
     "name": "stdout",
     "output_type": "stream",
     "text": [
      "Train Accuracy;  0.9134161759924864\n",
      "Test Accuracy:  0.9146479789040205\n",
      "F1 Score:  0.9533479429441478\n"
     ]
    },
    {
     "data": {
      "image/png": "[encoded data removed]",
      "text/plain": [
       "<Figure size 432x288 with 2 Axes>"
      ]
     },
     "metadata": {
      "needs_background": "light"
     },
     "output_type": "display_data"
    }
   ],
   "source": [
    "# Testing with created labels and seeing the before and after\n",
    "top_features.append('Label')\n",
    "final_test(final_dataframe, top_features)"
   ]
  }
 ],
 "metadata": {
  "kernelspec": {
   "display_name": "Python 3",
   "language": "python",
   "name": "python3"
  },
  "language_info": {
   "codemirror_mode": {
    "name": "ipython",
    "version": 3
   },
   "file_extension": ".py",
   "mimetype": "text/x-python",
   "name": "python",
   "nbconvert_exporter": "python",
   "pygments_lexer": "ipython3",
   "version": "3.9.7"
  },
  "orig_nbformat": 4
 },
 "nbformat": 4,
 "nbformat_minor": 2
}
